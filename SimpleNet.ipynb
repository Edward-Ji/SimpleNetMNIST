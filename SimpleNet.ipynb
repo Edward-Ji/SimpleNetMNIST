{
 "cells": [
  {
   "cell_type": "markdown",
   "id": "adf482bb",
   "metadata": {},
   "source": [
    "<a target=\"_blank\" href=\"https://colab.research.google.com/github/Edward-Ji/SimpleNet/blob/main/SimpleNet.ipynb\">\n",
    "  <img src=\"https://colab.research.google.com/assets/colab-badge.svg\" alt=\"Open In Colab\"/>\n",
    "</a>\n",
    "\n",
    "Abstract\n",
    "===\n",
    "\n",
    "This notebook intends to recreate the SimpleNet model specified in the _Lets keep it simple, Using simple architectures to outperform deeper and more complex architectures_ [paper](https://arxiv.org/pdf/1608.06037v8.pdf) and [code](https://github.com/Coderx7/SimpleNet/) using PyTorch. Only the slim 310K parameter version of the model is replicated, for use on personal computers with limited computational power. The performance of this implementation is tested against the MNIST and EMNIST handwritten digits dataset."
   ]
  },
  {
   "cell_type": "markdown",
   "id": "32b55e8d",
   "metadata": {},
   "source": [
    "Preparation\n",
    "===\n",
    "\n",
    "Import relevant libraries and ensure they are recent."
   ]
  },
  {
   "cell_type": "code",
   "execution_count": null,
   "id": "699d78fa",
   "metadata": {},
   "outputs": [
    {
     "name": "stdout",
     "output_type": "stream",
     "text": [
      "torch: 2.1.2\n",
      "torchvision: 0.16.2\n"
     ]
    }
   ],
   "source": [
    "import torch\n",
    "import torchvision\n",
    "\n",
    "print(\"torch:\", torch.__version__)\n",
    "print(\"torchvision:\", torchvision.__version__)"
   ]
  },
  {
   "cell_type": "markdown",
   "id": "e49dbce5",
   "metadata": {},
   "source": [
    "Because code is sometimes appended to Python files and imported in this notebook, the modules need to be reloaded every now and then."
   ]
  },
  {
   "cell_type": "code",
   "execution_count": null,
   "id": "1238f67d",
   "metadata": {},
   "outputs": [],
   "source": [
    "%load_ext autoreload\n",
    "%autoreload 2"
   ]
  },
  {
   "cell_type": "markdown",
   "id": "8c249aa9",
   "metadata": {},
   "source": [
    "Utilities\n",
    "---\n",
    "\n",
    "### Device Agnostic Code\n",
    "\n",
    "Use CUDA on machines with Nvidia GPU, and MPS on Apple machines with M1 series chips; If neither is available, fall back to CPU."
   ]
  },
  {
   "cell_type": "code",
   "execution_count": null,
   "id": "8b401d79",
   "metadata": {},
   "outputs": [
    {
     "name": "stdout",
     "output_type": "stream",
     "text": [
      "Overwriting utils.py\n"
     ]
    }
   ],
   "source": [
    "%%writefile utils.py\n",
    "\"\"\"\n",
    "Utilities for using PyTorch. \n",
    "\"\"\"\n",
    "\n",
    "import math\n",
    "import random\n",
    "import matplotlib.pyplot as plt\n",
    "import torch\n",
    "\n",
    "from typing import Optional\n",
    "\n",
    "def get_available_device():\n",
    "    if torch.cuda.is_available():\n",
    "        device = torch.device(\"cuda\")\n",
    "    elif torch.backends.mps.is_available():\n",
    "        device = torch.device(\"mps\")\n",
    "    else:\n",
    "        device = torch.device(\"cpu\")\n",
    "    return device"
   ]
  },
  {
   "cell_type": "code",
   "execution_count": null,
   "id": "3d6f6668",
   "metadata": {},
   "outputs": [],
   "source": [
    "from utils import get_available_device\n",
    "\n",
    "device = get_available_device()"
   ]
  },
  {
   "cell_type": "markdown",
   "id": "935d538f",
   "metadata": {},
   "source": [
    "Reproducibility\n",
    "---\n",
    "\n",
    "The following seed is used throughout this notebook for the reproducibility of results in this notebook."
   ]
  },
  {
   "cell_type": "code",
   "execution_count": null,
   "id": "7a436d09",
   "metadata": {},
   "outputs": [],
   "source": [
    "SEED = 3407"
   ]
  },
  {
   "cell_type": "markdown",
   "id": "e3ed43cf",
   "metadata": {},
   "source": [
    "A Glance at the Dataset\n",
    "---\n",
    "\n",
    "PyTorch has a builtin MNIST dataset, so it's easy to use it with PyTorch."
   ]
  },
  {
   "cell_type": "code",
   "execution_count": null,
   "id": "ce4de5cc",
   "metadata": {},
   "outputs": [
    {
     "data": {
      "text/plain": [
       "(60000, 10000, 10)"
      ]
     },
     "execution_count": null,
     "metadata": {},
     "output_type": "execute_result"
    }
   ],
   "source": [
    "from pathlib import Path\n",
    "from torchvision.datasets import MNIST\n",
    "from torchvision.transforms import ToTensor\n",
    "\n",
    "data_dir = Path(\"data\")\n",
    "\n",
    "train_dataset = MNIST(\n",
    "    data_dir,\n",
    "    transform=ToTensor(),\n",
    "    download=True\n",
    ")\n",
    "test_dataset = MNIST(\n",
    "    data_dir,\n",
    "    train=False,\n",
    "    transform=ToTensor(),\n",
    "    download=True\n",
    ")\n",
    "classes = train_dataset.classes\n",
    "\n",
    "len(train_dataset), len(test_dataset), len(classes)"
   ]
  },
  {
   "cell_type": "markdown",
   "id": "7722fe0e",
   "metadata": {},
   "source": [
    "Visualize some random images from the dataset with their labels."
   ]
  },
  {
   "cell_type": "code",
   "execution_count": null,
   "id": "2ee980b8",
   "metadata": {},
   "outputs": [
    {
     "name": "stdout",
     "output_type": "stream",
     "text": [
      "Appending to utils.py\n"
     ]
    }
   ],
   "source": [
    "%%writefile -a utils.py\n",
    "\n",
    "def plot_dataset_images(dataset: torch.utils.data.Dataset,\n",
    "                        k: int = 9,\n",
    "                        *,\n",
    "                        classes: Optional[list[str]] = None,\n",
    "                        seed: Optional[int] = None):\n",
    "    \"\"\"\n",
    "    Given a dataset, pick random images and plot them.\n",
    "\n",
    "    :param dataset: dataset to pick images from\n",
    "    :param k: the number of images to pick\n",
    "    :param classes: used as the list of classes if provided, defaults to `dataset.classes`\n",
    "    :param seed: the number used to seed the random generator\n",
    "    \"\"\"\n",
    "    if classes is None:\n",
    "        if hasattr(dataset, \"classes\"):\n",
    "            classes = dataset.classes\n",
    "        else:\n",
    "            raise ValueError(\"dataset doesn't have attribute classes,\"\n",
    "                             \" please provide the list of classes manually\")\n",
    "    if seed is not None:\n",
    "        random.seed(seed)\n",
    "    idx = random.sample(range(len(dataset)), k=k)\n",
    "\n",
    "    a = math.floor(math.sqrt(9))\n",
    "    b = math.ceil(k / a)\n",
    "    for i in range(k):\n",
    "        image, target = dataset[idx[i]]\n",
    "        title = f\"{classes[target]}\"\n",
    "        plt.subplot(a, b, i+1)\n",
    "        plt.imshow(image.squeeze(), cmap=\"gray\")\n",
    "        plt.title(title)\n",
    "        plt.axis(False)"
   ]
  },
  {
   "cell_type": "code",
   "execution_count": null,
   "id": "477bd130",
   "metadata": {},
   "outputs": [
    {
     "data": {
      "image/png": "[encoded data removed]",
      "text/plain": [
       "<Figure size 640x480 with 12 Axes>"
      ]
     },
     "metadata": {},
     "output_type": "display_data"
    }
   ],
   "source": [
    "from utils import plot_dataset_images\n",
    "\n",
    "plot_dataset_images(train_dataset, 12)"
   ]
  },
  {
   "cell_type": "markdown",
   "id": "592bf0b4",
   "metadata": {},
   "source": [
    "Build\n",
    "==="
   ]
  },
  {
   "cell_type": "markdown",
   "id": "a17ec311",
   "metadata": {},
   "source": [
    "The SimpleNet Slim Architecture\n",
    "---\n",
    "\n",
    "See [paper](https://arxiv.org/pdf/1608.06037v8.pdf) for a detailed description of the architecture and explanation to some design choices.\n",
    "\n",
    "See [slim version 310K params](https://github.com/Coderx7/SimpleNet/blob/master/SimpNet_V1/Models/Slim_version_310KParams/train_test.prototxt) for details of the model architecture related to the above paper. The architecture is specified for use with [Caffe](https://caffe.berkeleyvision.org/), which is different to PyTorch in the implementation of some functionalities. Those discrepancies require extra attention.\n",
    "\n",
    "Use [Netscope](https://ethereon.github.io/netscope/#/editor) for a visualization of the model architecture: paste in the `prototxt` file content and press <kbd>Shift</kbd>+<kbd>Enter</kbd>."
   ]
  },
  {
   "cell_type": "code",
   "execution_count": null,
   "id": "c4ce3f75",
   "metadata": {},
   "outputs": [
    {
     "name": "stdout",
     "output_type": "stream",
     "text": [
      "Overwriting simpnet.py\n"
     ]
    }
   ],
   "source": [
    "%%writefile simpnet.py\n",
    "\"\"\"\n",
    "An implementation of the SimpleNet slim version (310K params) and some helper\n",
    "modules.\n",
    "\"\"\"\n",
    "\n",
    "import torch\n",
    "\n",
    "from collections import OrderedDict\n",
    "from torch import nn"
   ]
  },
  {
   "cell_type": "markdown",
   "id": "b3d95cf3",
   "metadata": {},
   "source": [
    "The SimpleNet architecture make use of a scaling layer not built into PyTorch, so we implement it ourselves. According to the [source code](https://github.com/BVLC/caffe/blob/9b891540183ddc834a02b2bd81b31afae71b2153/src/caffe/layers/scale_layer.cpp#L36C1-L40C6) of Caffe, the layer is initialized as an identity operation if the filler parameter is not provided:\n",
    "\n",
    "> ```\n",
    ">     if (!param.has_filler()) {\n",
    ">         // Default to unit (1) filler for identity operation.\n",
    ">         filler_param.set_type(\"constant\");\n",
    ">         filler_param.set_value(1);\n",
    ">     }\n",
    "> ```"
   ]
  },
  {
   "cell_type": "code",
   "execution_count": null,
   "id": "80caf822",
   "metadata": {},
   "outputs": [
    {
     "name": "stdout",
     "output_type": "stream",
     "text": [
      "Appending to simpnet.py\n"
     ]
    }
   ],
   "source": [
    "%%writefile -a simpnet.py\n",
    "\n",
    "class Scale(nn.Module):\n",
    "    \"\"\"\n",
    "    Scales input by a scalar factor and add a scalar bias to it.\n",
    "\n",
    "    The module is intialized as an identity operation but both the factor and\n",
    "    the bias term is learnable.\n",
    "    \"\"\"\n",
    "\n",
    "    def __init__(self):\n",
    "        super().__init__()\n",
    "        self.factor = nn.Parameter(torch.ones(1), requires_grad=True)\n",
    "        self.bias = nn.Parameter(torch.zeros(1), requires_grad=True)\n",
    "\n",
    "    def forward(self, x: torch.Tensor) -> torch.Tensor:\n",
    "        return x * self.factor + self.bias"
   ]
  },
  {
   "cell_type": "markdown",
   "id": "3207631c",
   "metadata": {},
   "source": [
    "In section 3.0.2 of the paper, it reads\n",
    "> Instead of thinking in layers, think and design in group of homogeneous layers.\n",
    "\n",
    "In this spirit, the model architecture contains a series of \"blocks\" with a convolution layer followed by a batch normalization layer, a scaling layer, and a reLU layer. To allow easy creation of those blocks, we encapsulate it in a Python class.\n",
    "\n",
    "One thing to note is that the momentum parameter in PyTorch batch normalization layer is not the same as that in Caffe. In [Caffe](https://github.com/BVLC/caffe/blob/9b891540183ddc834a02b2bd81b31afae71b2153/src/caffe/proto/caffe.proto#L538-L541),\n",
    "> Each iteration updates the moving average $S_{t-1}$ with the current mean $Y_t$ by $S_t = (1-\\beta)Y_t + \\beta \\cdot S_{t-1}$, where $\\beta$ is the moving_average_fraction parameter.\n",
    "\n",
    "However, in [PyTorch][ref],\n",
    "> Mathematically, the update rule for running statistics here is $\\hat{x}_\\text{new} = (1 - \\text{momentum}) \\times \\hat{x} + \\text{momentum} \\times x_t$, $\\hat{x}$ is the estimated statistic and $x_t$ is the new observed value.\n",
    "\n",
    "[ref]: https://pytorch.org/docs/stable/generated/torch.nn.BatchNorm2d.html#torch.nn.BatchNorm2d:~:text=Mathematically%2C%20the%20update,new%20observed%20value."
   ]
  },
  {
   "cell_type": "code",
   "execution_count": null,
   "id": "8d19e103",
   "metadata": {},
   "outputs": [
    {
     "name": "stdout",
     "output_type": "stream",
     "text": [
      "Appending to simpnet.py\n"
     ]
    }
   ],
   "source": [
    "%%writefile -a simpnet.py\n",
    "\n",
    "class SimpnetBlock(nn.Module):\n",
    "    \"\"\"\n",
    "    A group of homogeneous layers used in SimpleNet.\n",
    "\n",
    "    It contains a 3x3 convolution that can be initialized using either Xavier or\n",
    "    Gaussian normal, followed by a batch normalization layer, a scaling layer,\n",
    "    and a reLU layer.\n",
    "    \"\"\"\n",
    "\n",
    "    def __init__(self,\n",
    "                 in_channels,\n",
    "                 out_channels,\n",
    "                 weight_filler_type=\"xavier\"\n",
    "                 ):\n",
    "        super().__init__()\n",
    "        \n",
    "        self.conv = nn.Conv2d(\n",
    "            in_channels=in_channels,\n",
    "            out_channels=out_channels,  # num_output\n",
    "            kernel_size=3,              # kernel_size\n",
    "            stride=1,                   # stride\n",
    "            padding=\"same\"              # pad\n",
    "        )\n",
    "\n",
    "        # weight_filler\n",
    "        if weight_filler_type == \"xavier\":\n",
    "            nn.init.xavier_normal_(self.conv.weight)\n",
    "        elif weight_filler_type == \"gaussian\":\n",
    "            nn.init.normal_(self.conv.weight, std=0.01)\n",
    "        else:\n",
    "            raise ValueError(f\"invalid weight filler type {weight_filler_type}\")\n",
    "        \n",
    "        self.bn = nn.BatchNorm2d(\n",
    "            num_features=out_channels,  # num_output\n",
    "            momentum=0.05,              # 1 - moving_average_fraction\n",
    "            affine=False                # param\n",
    "        )\n",
    "        self.scale = Scale()\n",
    "        self.relu = nn.ReLU(inplace=True)\n",
    "\n",
    "    def forward(self, x: torch.Tensor) -> torch.Tensor:\n",
    "        return self.relu(self.scale(self.bn(self.conv(x))))"
   ]
  },
  {
   "cell_type": "markdown",
   "id": "2a2ea0d2",
   "metadata": {},
   "source": [
    "Section 3.1 of the paper claims\n",
    ">  Preferably use 1×1 kernels at the end of the network...\n",
    "\n",
    "The final blocks of the architecture each consists of a convolution layer followed by only a reLU layer. The bias is initialized to zeroes."
   ]
  },
  {
   "cell_type": "code",
   "execution_count": null,
   "id": "2de21022",
   "metadata": {},
   "outputs": [
    {
     "name": "stdout",
     "output_type": "stream",
     "text": [
      "Appending to simpnet.py\n"
     ]
    }
   ],
   "source": [
    "%%writefile -a simpnet.py\n",
    "\n",
    "class SimpnetCCCP(nn.Module):\n",
    "    \"\"\"\n",
    "    A group of layers used at the end of SimpleNet.\n",
    "\n",
    "    It consists of a convolution layer with zero-initialized bias followed by a\n",
    "    reLU layer.\n",
    "    \"\"\"\n",
    "\n",
    "    def __init__(self,\n",
    "                 in_channels,\n",
    "                 out_channels,\n",
    "                 kernel_size=1,\n",
    "                 padding=0\n",
    "                 ):\n",
    "        super().__init__()\n",
    "        self.conv = nn.Conv2d(\n",
    "            in_channels=in_channels,\n",
    "            out_channels=out_channels,\n",
    "            kernel_size=kernel_size,\n",
    "            padding=padding\n",
    "        )\n",
    "        nn.init.constant_(self.conv.bias, 0)\n",
    "        self.relu = nn.ReLU(inplace=True)\n",
    "\n",
    "    def forward(self, x: torch.Tensor) -> torch.Tensor:\n",
    "        return self.relu(self.conv(x))"
   ]
  },
  {
   "cell_type": "markdown",
   "id": "317a4364",
   "metadata": {},
   "source": [
    "From the above components, one can construct the full SimpleNet model. For faster computation on personal machines, the implemented model is the \"slimmest\" SimpleNet model in the paper with only 310K parameters.\n",
    "\n",
    "Note that some of the convolution layers later in the model has\n",
    "> ```\n",
    "> param {\n",
    ">     lr_mult: 1\n",
    ">     decay_mult: 1\n",
    "> }\n",
    "> param {\n",
    ">     lr_mult: 2\n",
    ">     decay_mult: 0\n",
    "> }\n",
    "> ```\n",
    "\n",
    "In PyTorch, this has to be specified in the `params` parameter when instantiating an `Optimizer`. This implementation includes a method for creating such an optimizer with learning rate and decay multiplier correctly configured."
   ]
  },
  {
   "cell_type": "code",
   "execution_count": null,
   "id": "78f3ff1d",
   "metadata": {},
   "outputs": [
    {
     "name": "stdout",
     "output_type": "stream",
     "text": [
      "Appending to simpnet.py\n"
     ]
    }
   ],
   "source": [
    "%%writefile -a simpnet.py\n",
    "\n",
    "class SimpnetSlim310K(nn.Module):\n",
    "    \"\"\"\n",
    "    The slimmest SimpleNet with only 310K parameters.\n",
    "    \"\"\"\n",
    "\n",
    "    def __init__(self, in_channels, out_features, ip_features=64):\n",
    "        super().__init__()\n",
    "        self.features = nn.Sequential(OrderedDict([\n",
    "            (\"block1\", SimpnetBlock(in_channels=in_channels,\n",
    "                                    out_channels=64)),\n",
    "            (\"block1_0\", SimpnetBlock(in_channels=64,\n",
    "                                      out_channels=32)),\n",
    "            (\"block2\", SimpnetBlock(in_channels=32,\n",
    "                                    out_channels=32,\n",
    "                                    weight_filler_type=\"gaussian\")),\n",
    "            (\"block2_1\", SimpnetBlock(in_channels=32,\n",
    "                                      out_channels=32,\n",
    "                                      weight_filler_type=\"gaussian\")),\n",
    "            (\"pool2_1\", nn.MaxPool2d(kernel_size=2)),\n",
    "            (\"block2_2\", SimpnetBlock(in_channels=32,\n",
    "                                      out_channels=32,\n",
    "                                      weight_filler_type=\"gaussian\")),\n",
    "            (\"block3\", SimpnetBlock(in_channels=32,\n",
    "                                    out_channels=32)),\n",
    "            (\"conv4\", nn.Conv2d(in_channels=32,\n",
    "                                out_channels=64,\n",
    "                                kernel_size=3,\n",
    "                                stride=1,\n",
    "                                padding=\"same\")),\n",
    "            (\"pool4\", nn.MaxPool2d(kernel_size=2)),\n",
    "            (\"bn4\", nn.BatchNorm2d(num_features=64,\n",
    "                                   momentum=0.05,\n",
    "                                   affine=False)),\n",
    "            (\"scale4\", Scale()),\n",
    "            (\"relu4\", nn.ReLU(inplace=True)),\n",
    "            (\"block4_1\", SimpnetBlock(in_channels=64,\n",
    "                                      out_channels=64)),\n",
    "            (\"block4_2\", SimpnetBlock(in_channels=64,\n",
    "                                      out_channels=64)),\n",
    "            (\"pool4_2\", nn.MaxPool2d(kernel_size=2)),\n",
    "            (\"block4_0\", SimpnetBlock(in_channels=64,\n",
    "                                      out_channels=128)),\n",
    "            (\"cccp4\", SimpnetCCCP(in_channels=128,\n",
    "                                  out_channels=256)),\n",
    "            (\"cccp5\", SimpnetCCCP(in_channels=256,\n",
    "                                  out_channels=64)),\n",
    "            (\"poolcp5\", nn.MaxPool2d(kernel_size=2)),\n",
    "            (\"cccp6\", SimpnetCCCP(in_channels=64,\n",
    "                                  out_channels=64,\n",
    "                                  kernel_size=3,\n",
    "                                  padding=1)),\n",
    "            (\"poolcp6\", nn.MaxPool2d(kernel_size=2)),\n",
    "        ]))\n",
    "\n",
    "        self.ip1 = nn.Linear(\n",
    "            in_features=ip_features,\n",
    "            out_features=out_features\n",
    "        )\n",
    "        nn.init.xavier_normal_(self.ip1.weight)\n",
    "        nn.init.constant_(self.ip1.bias, 0)\n",
    "        self.classifier = nn.Sequential(\n",
    "            nn.Flatten(),\n",
    "            self.ip1\n",
    "        )\n",
    "        \n",
    "    def forward(self, x: torch.Tensor) -> torch.Tensor:\n",
    "        return self.classifier(self.features(x))\n",
    "\n",
    "    def get_optimizer(self,\n",
    "                      optimizer_cls: type[torch.optim.Optimizer],\n",
    "                      **kwargs\n",
    "                      ) -> torch.optim.Optimizer:\n",
    "        \"\"\"\n",
    "        Creates an optimizer with learning rate and weight decay correctly\n",
    "        configured for this model.\n",
    "\n",
    "        :param optimizer_cls: the optimizer class to instantiate with\n",
    "        :param kwargs: the keyword arguments to pass to the optimizer class (must contain `lr`)\n",
    "        :returns: an optimizer instance correctly configured for this model\n",
    "        \"\"\"\n",
    "        lr = kwargs[\"lr\"]\n",
    "        params = set(self.parameters())\n",
    "        custom = {\n",
    "            self.features.cccp4.conv.bias,\n",
    "            self.features.cccp5.conv.bias,\n",
    "            self.features.cccp6.conv.bias,\n",
    "        }\n",
    "        optimizer = optimizer_cls(\n",
    "            [\n",
    "                {\"params\": list(params - custom)},\n",
    "                {\"params\": list(custom), \"lr\": 2 * lr, \"weight_decay\": 0}\n",
    "            ],\n",
    "            **kwargs\n",
    "        )\n",
    "\n",
    "        return optimizer"
   ]
  },
  {
   "cell_type": "markdown",
   "id": "9c16250d",
   "metadata": {},
   "source": [
    "Summarize the model architecture with test input size:\n",
    "- 128 samples per batch\n",
    "- 1 color channel\n",
    "- 32 pixels wide\n",
    "- 32 pixels high\n",
    "\n",
    "The test image is upscaled to 32 by 32 (instead of the original 28 by 28) because otherwise the tensor would become zero-sized after going through the deep network and produces an error."
   ]
  },
  {
   "cell_type": "code",
   "execution_count": null,
   "id": "151b0ff3",
   "metadata": {},
   "outputs": [
    {
     "data": {
      "text/plain": [
       "==========================================================================================\n",
       "Layer (type:depth-idx)                   Output Shape              Param #\n",
       "==========================================================================================\n",
       "SimpnetSlim310K                          [128, 10]                 --\n",
       "├─Sequential: 1-1                        [128, 64, 1, 1]           --\n",
       "│    └─SimpnetBlock: 2-1                 [128, 64, 32, 32]         --\n",
       "│    │    └─Conv2d: 3-1                  [128, 64, 32, 32]         640\n",
       "│    │    └─BatchNorm2d: 3-2             [128, 64, 32, 32]         --\n",
       "│    │    └─Scale: 3-3                   [128, 64, 32, 32]         2\n",
       "│    │    └─ReLU: 3-4                    [128, 64, 32, 32]         --\n",
       "│    └─SimpnetBlock: 2-2                 [128, 32, 32, 32]         --\n",
       "│    │    └─Conv2d: 3-5                  [128, 32, 32, 32]         18,464\n",
       "│    │    └─BatchNorm2d: 3-6             [128, 32, 32, 32]         --\n",
       "│    │    └─Scale: 3-7                   [128, 32, 32, 32]         2\n",
       "│    │    └─ReLU: 3-8                    [128, 32, 32, 32]         --\n",
       "│    └─SimpnetBlock: 2-3                 [128, 32, 32, 32]         --\n",
       "│    │    └─Conv2d: 3-9                  [128, 32, 32, 32]         9,248\n",
       "│    │    └─BatchNorm2d: 3-10            [128, 32, 32, 32]         --\n",
       "│    │    └─Scale: 3-11                  [128, 32, 32, 32]         2\n",
       "│    │    └─ReLU: 3-12                   [128, 32, 32, 32]         --\n",
       "│    └─SimpnetBlock: 2-4                 [128, 32, 32, 32]         --\n",
       "│    │    └─Conv2d: 3-13                 [128, 32, 32, 32]         9,248\n",
       "│    │    └─BatchNorm2d: 3-14            [128, 32, 32, 32]         --\n",
       "│    │    └─Scale: 3-15                  [128, 32, 32, 32]         2\n",
       "│    │    └─ReLU: 3-16                   [128, 32, 32, 32]         --\n",
       "│    └─MaxPool2d: 2-5                    [128, 32, 16, 16]         --\n",
       "│    └─SimpnetBlock: 2-6                 [128, 32, 16, 16]         --\n",
       "│    │    └─Conv2d: 3-17                 [128, 32, 16, 16]         9,248\n",
       "│    │    └─BatchNorm2d: 3-18            [128, 32, 16, 16]         --\n",
       "│    │    └─Scale: 3-19                  [128, 32, 16, 16]         2\n",
       "│    │    └─ReLU: 3-20                   [128, 32, 16, 16]         --\n",
       "│    └─SimpnetBlock: 2-7                 [128, 32, 16, 16]         --\n",
       "│    │    └─Conv2d: 3-21                 [128, 32, 16, 16]         9,248\n",
       "│    │    └─BatchNorm2d: 3-22            [128, 32, 16, 16]         --\n",
       "│    │    └─Scale: 3-23                  [128, 32, 16, 16]         2\n",
       "│    │    └─ReLU: 3-24                   [128, 32, 16, 16]         --\n",
       "│    └─Conv2d: 2-8                       [128, 64, 16, 16]         18,496\n",
       "│    └─MaxPool2d: 2-9                    [128, 64, 8, 8]           --\n",
       "│    └─BatchNorm2d: 2-10                 [128, 64, 8, 8]           --\n",
       "│    └─Scale: 2-11                       [128, 64, 8, 8]           2\n",
       "│    └─ReLU: 2-12                        [128, 64, 8, 8]           --\n",
       "│    └─SimpnetBlock: 2-13                [128, 64, 8, 8]           --\n",
       "│    │    └─Conv2d: 3-25                 [128, 64, 8, 8]           36,928\n",
       "│    │    └─BatchNorm2d: 3-26            [128, 64, 8, 8]           --\n",
       "│    │    └─Scale: 3-27                  [128, 64, 8, 8]           2\n",
       "│    │    └─ReLU: 3-28                   [128, 64, 8, 8]           --\n",
       "│    └─SimpnetBlock: 2-14                [128, 64, 8, 8]           --\n",
       "│    │    └─Conv2d: 3-29                 [128, 64, 8, 8]           36,928\n",
       "│    │    └─BatchNorm2d: 3-30            [128, 64, 8, 8]           --\n",
       "│    │    └─Scale: 3-31                  [128, 64, 8, 8]           2\n",
       "│    │    └─ReLU: 3-32                   [128, 64, 8, 8]           --\n",
       "│    └─MaxPool2d: 2-15                   [128, 64, 4, 4]           --\n",
       "│    └─SimpnetBlock: 2-16                [128, 128, 4, 4]          --\n",
       "│    │    └─Conv2d: 3-33                 [128, 128, 4, 4]          73,856\n",
       "│    │    └─BatchNorm2d: 3-34            [128, 128, 4, 4]          --\n",
       "│    │    └─Scale: 3-35                  [128, 128, 4, 4]          2\n",
       "│    │    └─ReLU: 3-36                   [128, 128, 4, 4]          --\n",
       "│    └─SimpnetCCCP: 2-17                 [128, 256, 4, 4]          --\n",
       "│    │    └─Conv2d: 3-37                 [128, 256, 4, 4]          33,024\n",
       "│    │    └─ReLU: 3-38                   [128, 256, 4, 4]          --\n",
       "│    └─SimpnetCCCP: 2-18                 [128, 64, 4, 4]           --\n",
       "│    │    └─Conv2d: 3-39                 [128, 64, 4, 4]           16,448\n",
       "│    │    └─ReLU: 3-40                   [128, 64, 4, 4]           --\n",
       "│    └─MaxPool2d: 2-19                   [128, 64, 2, 2]           --\n",
       "│    └─SimpnetCCCP: 2-20                 [128, 64, 2, 2]           --\n",
       "│    │    └─Conv2d: 3-41                 [128, 64, 2, 2]           36,928\n",
       "│    │    └─ReLU: 3-42                   [128, 64, 2, 2]           --\n",
       "│    └─MaxPool2d: 2-21                   [128, 64, 1, 1]           --\n",
       "├─Sequential: 1-2                        [128, 10]                 --\n",
       "│    └─Flatten: 2-22                     [128, 64]                 --\n",
       "│    └─Linear: 2-23                      [128, 10]                 650\n",
       "==========================================================================================\n",
       "Total params: 309,374\n",
       "Trainable params: 309,374\n",
       "Non-trainable params: 0\n",
       "Total mult-adds (G): 7.02\n",
       "==========================================================================================\n",
       "Input size (MB): 0.52\n",
       "Forward/backward pass size (MB): 416.56\n",
       "Params size (MB): 1.24\n",
       "Estimated Total Size (MB): 418.32\n",
       "=========================================================================================="
      ]
     },
     "execution_count": null,
     "metadata": {},
     "output_type": "execute_result"
    }
   ],
   "source": [
    "from torchinfo import summary\n",
    "from simpnet import SimpnetSlim310K\n",
    "\n",
    "simpnet_slim = SimpnetSlim310K(\n",
    "    in_channels=1,\n",
    "    out_features=len(classes)\n",
    ")\n",
    "summary(simpnet_slim, (128, 1, 32, 32))"
   ]
  },
  {
   "cell_type": "markdown",
   "id": "b129f4b0",
   "metadata": {},
   "source": [
    "Transformation and Data Loader\n",
    "---\n",
    "\n",
    "As explained above, the images should be upscaled to at least 32 by 32 to prevent a runtime error."
   ]
  },
  {
   "cell_type": "code",
   "execution_count": null,
   "id": "00d68497",
   "metadata": {},
   "outputs": [],
   "source": [
    "from torchvision.transforms import Compose, Resize\n",
    "\n",
    "simple_transform = Compose([\n",
    "    Resize((32, 32)),\n",
    "    ToTensor()\n",
    "])\n",
    "train_dataset = MNIST(\n",
    "    data_dir,\n",
    "    transform=simple_transform,\n",
    "    download=True\n",
    ")\n",
    "test_dataset = MNIST(\n",
    "    data_dir,\n",
    "    train=False,\n",
    "    transform=simple_transform,\n",
    "    download=True\n",
    ")\n",
    "classes = train_dataset.classes"
   ]
  },
  {
   "cell_type": "markdown",
   "id": "ec6339d0",
   "metadata": {},
   "source": [
    "Create data loader for faster computation in batches."
   ]
  },
  {
   "cell_type": "code",
   "execution_count": null,
   "id": "b6c5c13a",
   "metadata": {},
   "outputs": [
    {
     "data": {
      "text/plain": [
       "(469, 79)"
      ]
     },
     "execution_count": null,
     "metadata": {},
     "output_type": "execute_result"
    }
   ],
   "source": [
    "import os\n",
    "\n",
    "from torch.utils.data import DataLoader\n",
    "\n",
    "BATCH_SIZE = 128\n",
    "NUM_WORKERS = os.cpu_count()\n",
    "PIN_MEMORY = True\n",
    "\n",
    "train_dataloader = DataLoader(\n",
    "    train_dataset,\n",
    "    batch_size=BATCH_SIZE,\n",
    "    shuffle=True,\n",
    "    num_workers=NUM_WORKERS,\n",
    "    pin_memory=PIN_MEMORY\n",
    ")\n",
    "test_dataloader = DataLoader(\n",
    "    test_dataset,\n",
    "    batch_size=BATCH_SIZE,\n",
    "    num_workers=NUM_WORKERS,\n",
    "    pin_memory=PIN_MEMORY\n",
    ")\n",
    "\n",
    "len(train_dataloader), len(test_dataloader)"
   ]
  },
  {
   "cell_type": "markdown",
   "id": "d1c8700b",
   "metadata": {},
   "source": [
    "## Train and Test Loop"
   ]
  },
  {
   "cell_type": "code",
   "execution_count": null,
   "id": "d72c403c",
   "metadata": {},
   "outputs": [
    {
     "name": "stdout",
     "output_type": "stream",
     "text": [
      "Overwriting train.py\n"
     ]
    }
   ],
   "source": [
    "%%writefile train.py\n",
    "\"\"\"\n",
    "Train and test PyTorch models with data loaders.\n",
    "\"\"\"\n",
    "\n",
    "import torch\n",
    "\n",
    "from pathlib import Path\n",
    "from typing import Optional\n",
    "\n",
    "from torch import nn\n",
    "from torch.utils.data import DataLoader\n",
    "from torch.utils.tensorboard.writer import SummaryWriter\n",
    "from tqdm.auto import tqdm\n",
    "\n",
    "from utils import get_available_device\n",
    "\n",
    "device = get_available_device()\n",
    "\n",
    "def train_one_epoch(model: nn.Module,\n",
    "                    dataloader: DataLoader,\n",
    "                    loss_fn: nn.Module,\n",
    "                    optimizer: torch.optim.Optimizer,\n",
    "                    device: torch.device = device,\n",
    "                    ):\n",
    "    model.to(device)\n",
    "    model.train()\n",
    "\n",
    "    running_loss = 0.\n",
    "    running_acc = 0.\n",
    "\n",
    "    for data in dataloader:\n",
    "        inputs, labels = data\n",
    "\n",
    "        inputs = inputs.to(device)\n",
    "        labels = labels.to(device)\n",
    "\n",
    "        optimizer.zero_grad()\n",
    "\n",
    "        outputs = model(inputs)\n",
    "\n",
    "        loss = loss_fn(outputs, labels)\n",
    "        loss.backward()\n",
    "\n",
    "        optimizer.step()\n",
    "\n",
    "        running_loss += loss.item()\n",
    "        correct = torch.sum(labels == torch.argmax(outputs, dim=1)).item()\n",
    "        running_acc += correct / len(labels)\n",
    "\n",
    "    return running_loss / len(dataloader), running_acc / len(dataloader)\n",
    "\n",
    "def test_one_epoch(model: nn.Module,\n",
    "                   dataloader: DataLoader,\n",
    "                   loss_fn: nn.Module,\n",
    "                   device: torch.device = device,\n",
    "                   ):\n",
    "    model.to(device)\n",
    "    model.eval()\n",
    "\n",
    "    running_loss = 0.\n",
    "    running_acc = 0.\n",
    "\n",
    "    with torch.inference_mode():\n",
    "        for data in dataloader:\n",
    "            inputs, labels = data\n",
    "            inputs = inputs.to(device)\n",
    "            labels = labels.to(device)\n",
    "            outputs = model(inputs)    \n",
    "            loss = loss_fn(outputs, labels)\n",
    "            \n",
    "            running_loss += loss.item()\n",
    "            correct = torch.sum(labels == torch.argmax(outputs, dim=1)).item()\n",
    "            running_acc += correct / len(labels)\n",
    "\n",
    "    return running_loss / len(dataloader), running_acc / len(dataloader)\n",
    "\n",
    "def train_test_loop(model: nn.Module,\n",
    "                    train_dataloader: DataLoader,\n",
    "                    test_dataloader: DataLoader,\n",
    "                    loss_fn: nn.Module,\n",
    "                    optimizer: torch.optim.Optimizer,\n",
    "                    *,\n",
    "                    epochs: int = 5,\n",
    "                    device: torch.device = device,\n",
    "                    print_epochs: Optional[int] = True,\n",
    "                    writer: Optional[SummaryWriter] = None,\n",
    "                    save_to: Optional[str | Path] = None\n",
    "                    ):\n",
    "    \"\"\"\n",
    "    Train and test a model using the given train and test data loaders, loss\n",
    "    function, and optimizer.\n",
    "\n",
    "    :param model: model to train and test\n",
    "    :param train_dataloader: data loader for training\n",
    "    :param test_dataloader: data loader for testing\n",
    "    :param loss_fn: loss function\n",
    "    :param optimizer: optimizer\n",
    "    :param epochs: train for this many iterations\n",
    "    :param device: device to train the model on\n",
    "    :param print_epochs: print results every this many epochs\n",
    "    :param writer: a summary writer to write statistics to\n",
    "    :param save_to: a path to save the model with highest accuracy\n",
    "    \"\"\"    \n",
    "    if save_to is not None:\n",
    "        save_to = Path(save_to)\n",
    "        save_to.parent.mkdir(parents=True, exist_ok=True)\n",
    "\n",
    "    best_test_acc = 0\n",
    "    for epoch in tqdm(range(1, epochs + 1), unit=\"epoch\"):\n",
    "        avg_train_loss, avg_train_acc = train_one_epoch(\n",
    "            model,\n",
    "            train_dataloader,\n",
    "            loss_fn,\n",
    "            optimizer,\n",
    "            device\n",
    "        )\n",
    "\n",
    "        avg_test_loss, avg_test_acc = test_one_epoch(\n",
    "            model,\n",
    "            test_dataloader,\n",
    "            loss_fn,\n",
    "            device\n",
    "        )\n",
    "\n",
    "        if print_epochs is not None and epoch % print_epochs == 0:\n",
    "            tqdm.write(\n",
    "                f\"epoch: {epoch:5d} |\"\n",
    "                f\" train loss: {avg_train_loss:.3f} |\"\n",
    "                f\" train accuracy: {avg_train_acc:.1%} |\"\n",
    "                f\" test loss: {avg_test_loss:.3f} |\"\n",
    "                f\" test accuracy: {avg_test_acc:.1%}\"\n",
    "            )\n",
    "        \n",
    "        if writer is not None:\n",
    "            writer.add_scalars(\n",
    "                \"Training vs. Test Loss\",\n",
    "                {\"Training\": avg_train_loss, \"Test\": avg_test_loss},\n",
    "                epoch\n",
    "            )\n",
    "            writer.add_scalars(\n",
    "                \"Training vs. Test Accuracy\",\n",
    "                {\"Training\": avg_train_acc, \"Test\": avg_test_acc},\n",
    "                epoch\n",
    "            )\n",
    "            writer.flush()\n",
    "\n",
    "        if save_to is not None and avg_test_acc > best_test_acc:\n",
    "            best_test_acc = avg_test_acc\n",
    "            torch.save(model.state_dict(), save_to)"
   ]
  },
  {
   "cell_type": "code",
   "execution_count": null,
   "id": "74753649",
   "metadata": {},
   "outputs": [
    {
     "name": "stderr",
     "output_type": "stream",
     "text": [
      "2024-02-04 11:02:32.375601: E external/local_xla/xla/stream_executor/cuda/cuda_dnn.cc:9261] Unable to register cuDNN factory: Attempting to register factory for plugin cuDNN when one has already been registered\n",
      "2024-02-04 11:02:32.375658: E external/local_xla/xla/stream_executor/cuda/cuda_fft.cc:607] Unable to register cuFFT factory: Attempting to register factory for plugin cuFFT when one has already been registered\n",
      "2024-02-04 11:02:32.377148: E external/local_xla/xla/stream_executor/cuda/cuda_blas.cc:1515] Unable to register cuBLAS factory: Attempting to register factory for plugin cuBLAS when one has already been registered\n"
     ]
    },
    {
     "data": {
      "application/vnd.jupyter.widget-view+json": {
       "model_id": "599324d74ff0442b999a2c875655cbe0",
       "version_major": 2,
       "version_minor": 0
      },
      "text/plain": [
       "  0%|          | 0/50 [00:00<?, ?epoch/s]"
      ]
     },
     "metadata": {},
     "output_type": "display_data"
    },
    {
     "name": "stdout",
     "output_type": "stream",
     "text": [
      "epoch:     5 | train loss: 0.118 | train accuracy: 97.8% | test loss: 0.195 | test accuracy: 95.9%\n",
      "epoch:    10 | train loss: 0.064 | train accuracy: 99.2% | test loss: 0.069 | test accuracy: 99.0%\n",
      "epoch:    15 | train loss: 0.051 | train accuracy: 99.5% | test loss: 0.059 | test accuracy: 99.3%\n",
      "epoch:    20 | train loss: 0.045 | train accuracy: 99.6% | test loss: 0.071 | test accuracy: 99.4%\n",
      "epoch:    25 | train loss: 0.044 | train accuracy: 99.6% | test loss: 0.051 | test accuracy: 99.3%\n",
      "epoch:    30 | train loss: 0.041 | train accuracy: 99.7% | test loss: 0.048 | test accuracy: 99.4%\n",
      "epoch:    35 | train loss: 0.040 | train accuracy: 99.7% | test loss: 0.052 | test accuracy: 99.3%\n",
      "epoch:    40 | train loss: 0.037 | train accuracy: 99.8% | test loss: 0.043 | test accuracy: 99.4%\n",
      "epoch:    45 | train loss: 0.038 | train accuracy: 99.7% | test loss: 0.053 | test accuracy: 99.2%\n",
      "epoch:    50 | train loss: 0.036 | train accuracy: 99.7% | test loss: 0.054 | test accuracy: 99.2%\n"
     ]
    }
   ],
   "source": [
    "import math\n",
    "\n",
    "from torch import nn\n",
    "from torch.utils.tensorboard.writer import SummaryWriter\n",
    "\n",
    "from train import train_test_loop\n",
    "\n",
    "epochs = 50\n",
    "name = \"simpnet_slim_310k\"\n",
    "\n",
    "runs_dir = Path(\"runs\")\n",
    "models_dir = Path(\"models\")\n",
    "\n",
    "torch.manual_seed(SEED)\n",
    "\n",
    "simpnet_slim = SimpnetSlim310K(1, len(classes))\n",
    "loss_fn = nn.CrossEntropyLoss()\n",
    "optimizer = simpnet_slim.get_optimizer(\n",
    "    torch.optim.RMSprop,\n",
    "    momentum=0.9,\n",
    "    eps=math.sqrt(0.001),\n",
    "    lr=0.00001,\n",
    "    weight_decay=0.0981\n",
    ")\n",
    "\n",
    "train_test_loop(\n",
    "    simpnet_slim,\n",
    "    train_dataloader,\n",
    "    test_dataloader,\n",
    "    loss_fn,\n",
    "    optimizer,\n",
    "    epochs=epochs,\n",
    "    print_epochs=5,\n",
    "    writer=SummaryWriter(runs_dir / name),\n",
    "    save_to=models_dir / f\"{name}.pt\"\n",
    ")"
   ]
  },
  {
   "cell_type": "markdown",
   "id": "c49edefd",
   "metadata": {},
   "source": [
    "Predict\n",
    "==="
   ]
  },
  {
   "cell_type": "markdown",
   "id": "c6ecca81",
   "metadata": {},
   "source": [
    "Load the Best Model\n",
    "---\n",
    "\n",
    "The best performing model, i.e., the model with highest accuracy is saved to the `models` directory during training."
   ]
  },
  {
   "cell_type": "code",
   "execution_count": null,
   "id": "7dece5b8",
   "metadata": {},
   "outputs": [
    {
     "data": {
      "text/plain": [
       "<All keys matched successfully>"
      ]
     },
     "execution_count": null,
     "metadata": {},
     "output_type": "execute_result"
    }
   ],
   "source": [
    "simpnet_slim = SimpnetSlim310K(1, len(classes))\n",
    "simpnet_slim.load_state_dict(torch.load(models_dir / f\"{name}.pt\"))"
   ]
  },
  {
   "cell_type": "markdown",
   "id": "2a28fd22",
   "metadata": {},
   "source": [
    "The performance of the model is comparable many of the deeper neural networks. However, it did not achieve the claimed accuracy in the paper:\n",
    "\n",
    "> We also slimmed our architecture to have only 300K parameters\n",
    "> and achieved 99.72% accuracy beating all previous larger and heavier architectures."
   ]
  },
  {
   "cell_type": "code",
   "execution_count": null,
   "id": "b8d4ddf5",
   "metadata": {},
   "outputs": [
    {
     "name": "stdout",
     "output_type": "stream",
     "text": [
      "accuracy: 99.50% | error rate: 0.50%\n"
     ]
    }
   ],
   "source": [
    "from train import test_one_epoch\n",
    "\n",
    "_, acc = test_one_epoch(\n",
    "    simpnet_slim,\n",
    "    test_dataloader,\n",
    "    loss_fn\n",
    ")\n",
    "\n",
    "print(f\"accuracy: {acc:.2%} | error rate: {1 - acc:.2%}\")"
   ]
  },
  {
   "cell_type": "markdown",
   "id": "bf7ffc01",
   "metadata": {},
   "source": [
    "It's possible that\n",
    "\n",
    "- some of the hyper parameters are different,\n",
    "- PyTorch's implementation is different to Caffe's,\n",
    "- I made a mistake somewhere,\n",
    "- I didn't train for long enough, etc."
   ]
  },
  {
   "cell_type": "markdown",
   "id": "9d247bda",
   "metadata": {},
   "source": [
    "Predict on MNIST\n",
    "---"
   ]
  },
  {
   "cell_type": "code",
   "execution_count": null,
   "id": "c8152a3a",
   "metadata": {},
   "outputs": [
    {
     "name": "stdout",
     "output_type": "stream",
     "text": [
      "Overwriting predict.py\n"
     ]
    }
   ],
   "source": [
    "%%writefile predict.py\n",
    "\"\"\"\n",
    "Making, visualizing, and summarizing predictions using PyTorch models.\n",
    "\"\"\"\n",
    "import math\n",
    "import matplotlib.pyplot as plt\n",
    "import pandas as pd\n",
    "import torch\n",
    "\n",
    "from typing import Any, Optional\n",
    "\n",
    "from torch import nn\n",
    "from tqdm.auto import tqdm\n",
    "\n",
    "from utils import get_available_device\n",
    "\n",
    "device = get_available_device()\n",
    "\n",
    "def plot_prediction(model: nn.Module,\n",
    "                    image: torch.Tensor,\n",
    "                    classes: list,\n",
    "                    *,\n",
    "                    ax: Optional[plt.Axes] = None,\n",
    "                    device=device):\n",
    "    \"\"\"\n",
    "    Predict an image using a given model and plot them.\n",
    "    \"\"\"\n",
    "    if ax is None:\n",
    "        ax = plt.subplot()\n",
    "\n",
    "    model.to(device)\n",
    "    model.eval()\n",
    "    with torch.inference_mode():\n",
    "        logits = model(image.unsqueeze(0).to(device))\n",
    "        probs = torch.softmax(logits, dim=1)\n",
    "        class_ = classes[torch.argmax(probs, dim=1)]\n",
    "\n",
    "    ax.imshow(image.permute(1, 2, 0), cmap=\"gray\")\n",
    "    ax.set_title(f\"predict: {class_}\")\n",
    "    ax.axis(False)\n",
    "\n",
    "    return probs, class_"
   ]
  },
  {
   "cell_type": "code",
   "execution_count": null,
   "id": "9cda19d6",
   "metadata": {},
   "outputs": [
    {
     "data": {
      "image/png": "[encoded data removed]",
      "text/plain": [
       "<Figure size 640x480 with 1 Axes>"
      ]
     },
     "metadata": {},
     "output_type": "display_data"
    }
   ],
   "source": [
    "import random\n",
    "\n",
    "from predict import plot_prediction\n",
    "\n",
    "random.seed(SEED)\n",
    "idx = random.randrange(len(test_dataset))\n",
    "image = test_dataset[idx][0]\n",
    "plot_prediction(simpnet_slim, image, classes);"
   ]
  },
  {
   "cell_type": "code",
   "execution_count": null,
   "id": "40625142",
   "metadata": {},
   "outputs": [
    {
     "name": "stdout",
     "output_type": "stream",
     "text": [
      "Appending to predict.py\n"
     ]
    }
   ],
   "source": [
    "%%writefile -a predict.py\n",
    "\n",
    "def prediction_dataframe(model, dataset, classes, device=device):\n",
    "    \"\"\"\n",
    "    Predict all images in a given dataset using a given model and produce a\n",
    "    data frame containing the prediction, label and probabilities the model\n",
    "    thinks that they are for both.\n",
    "    \"\"\"\n",
    "\n",
    "    model.to(device)\n",
    "    model.eval()\n",
    "\n",
    "    results = []\n",
    "    with torch.inference_mode():\n",
    "        for image, label in (tqdm(dataset, desc=\"Predict\", unit=\"sample\")):\n",
    "            logits = model(image.unsqueeze(0).to(device))\n",
    "            probs = torch.softmax(logits, dim=1)\n",
    "            predict = torch.argmax(probs, dim=1).item()\n",
    "            pred_prob = probs[0, predict].item()\n",
    "            label_prob = probs[0, label].item()\n",
    "            results.append([\n",
    "                classes[predict],\n",
    "                pred_prob,\n",
    "                classes[label],\n",
    "                label_prob\n",
    "            ])\n",
    "\n",
    "    return pd.DataFrame(\n",
    "        results,\n",
    "        columns=[\n",
    "            \"prediction\",\n",
    "            \"predict_probability\",\n",
    "            \"label\",\n",
    "            \"label_probability\"\n",
    "        ]\n",
    "    )"
   ]
  },
  {
   "cell_type": "code",
   "execution_count": null,
   "id": "dff60ffa",
   "metadata": {},
   "outputs": [
    {
     "data": {
      "application/vnd.jupyter.widget-view+json": {
       "model_id": "db2675145af14cdf824ac3ce2b12369f",
       "version_major": 2,
       "version_minor": 0
      },
      "text/plain": [
       "Predict:   0%|          | 0/10000 [00:00<?, ?sample/s]"
      ]
     },
     "metadata": {},
     "output_type": "display_data"
    },
    {
     "data": {
      "text/html": [
       "<div>\n",
       "<style scoped>\n",
       "    .dataframe tbody tr th:only-of-type {\n",
       "        vertical-align: middle;\n",
       "    }\n",
       "\n",
       "    .dataframe tbody tr th {\n",
       "        vertical-align: top;\n",
       "    }\n",
       "\n",
       "    .dataframe thead th {\n",
       "        text-align: right;\n",
       "    }\n",
       "</style>\n",
       "<table border=\"1\" class=\"dataframe\">\n",
       "  <thead>\n",
       "    <tr style=\"text-align: right;\">\n",
       "      <th></th>\n",
       "      <th>prediction</th>\n",
       "      <th>predict_probability</th>\n",
       "      <th>label</th>\n",
       "      <th>label_probability</th>\n",
       "    </tr>\n",
       "  </thead>\n",
       "  <tbody>\n",
       "    <tr>\n",
       "      <th>0</th>\n",
       "      <td>7 - seven</td>\n",
       "      <td>0.982213</td>\n",
       "      <td>7 - seven</td>\n",
       "      <td>0.982213</td>\n",
       "    </tr>\n",
       "    <tr>\n",
       "      <th>1</th>\n",
       "      <td>2 - two</td>\n",
       "      <td>0.990395</td>\n",
       "      <td>2 - two</td>\n",
       "      <td>0.990395</td>\n",
       "    </tr>\n",
       "    <tr>\n",
       "      <th>2</th>\n",
       "      <td>1 - one</td>\n",
       "      <td>0.958500</td>\n",
       "      <td>1 - one</td>\n",
       "      <td>0.958500</td>\n",
       "    </tr>\n",
       "    <tr>\n",
       "      <th>3</th>\n",
       "      <td>0 - zero</td>\n",
       "      <td>0.984098</td>\n",
       "      <td>0 - zero</td>\n",
       "      <td>0.984098</td>\n",
       "    </tr>\n",
       "    <tr>\n",
       "      <th>4</th>\n",
       "      <td>4 - four</td>\n",
       "      <td>0.951541</td>\n",
       "      <td>4 - four</td>\n",
       "      <td>0.951541</td>\n",
       "    </tr>\n",
       "    <tr>\n",
       "      <th>...</th>\n",
       "      <td>...</td>\n",
       "      <td>...</td>\n",
       "      <td>...</td>\n",
       "      <td>...</td>\n",
       "    </tr>\n",
       "    <tr>\n",
       "      <th>9995</th>\n",
       "      <td>2 - two</td>\n",
       "      <td>0.987767</td>\n",
       "      <td>2 - two</td>\n",
       "      <td>0.987767</td>\n",
       "    </tr>\n",
       "    <tr>\n",
       "      <th>9996</th>\n",
       "      <td>3 - three</td>\n",
       "      <td>0.976346</td>\n",
       "      <td>3 - three</td>\n",
       "      <td>0.976346</td>\n",
       "    </tr>\n",
       "    <tr>\n",
       "      <th>9997</th>\n",
       "      <td>4 - four</td>\n",
       "      <td>0.979934</td>\n",
       "      <td>4 - four</td>\n",
       "      <td>0.979934</td>\n",
       "    </tr>\n",
       "    <tr>\n",
       "      <th>9998</th>\n",
       "      <td>5 - five</td>\n",
       "      <td>0.961866</td>\n",
       "      <td>5 - five</td>\n",
       "      <td>0.961866</td>\n",
       "    </tr>\n",
       "    <tr>\n",
       "      <th>9999</th>\n",
       "      <td>6 - six</td>\n",
       "      <td>0.964697</td>\n",
       "      <td>6 - six</td>\n",
       "      <td>0.964697</td>\n",
       "    </tr>\n",
       "  </tbody>\n",
       "</table>\n",
       "<p>10000 rows × 4 columns</p>\n",
       "</div>"
      ],
      "text/plain": [
       "     prediction  predict_probability      label  label_probability\n",
       "0     7 - seven             0.982213  7 - seven           0.982213\n",
       "1       2 - two             0.990395    2 - two           0.990395\n",
       "2       1 - one             0.958500    1 - one           0.958500\n",
       "3      0 - zero             0.984098   0 - zero           0.984098\n",
       "4      4 - four             0.951541   4 - four           0.951541\n",
       "...         ...                  ...        ...                ...\n",
       "9995    2 - two             0.987767    2 - two           0.987767\n",
       "9996  3 - three             0.976346  3 - three           0.976346\n",
       "9997   4 - four             0.979934   4 - four           0.979934\n",
       "9998   5 - five             0.961866   5 - five           0.961866\n",
       "9999    6 - six             0.964697    6 - six           0.964697\n",
       "\n",
       "[10000 rows x 4 columns]"
      ]
     },
     "execution_count": null,
     "metadata": {},
     "output_type": "execute_result"
    }
   ],
   "source": [
    "from predict import prediction_dataframe\n",
    "\n",
    "pred_df = prediction_dataframe(simpnet_slim, test_dataset, classes)\n",
    "pred_df"
   ]
  },
  {
   "cell_type": "code",
   "execution_count": null,
   "id": "89645e5e",
   "metadata": {},
   "outputs": [
    {
     "name": "stdout",
     "output_type": "stream",
     "text": [
      "Appending to predict.py\n"
     ]
    }
   ],
   "source": [
    "%%writefile -a predict.py\n",
    "\n",
    "def plot_worst_predictions(pred_df: pd.DataFrame, dataset, n=9):\n",
    "    \"\"\"\n",
    "    Plot the worst predictions in a given prediction DataFrame.\n",
    "\n",
    "    The wrong predictions with the highest probabilities are considered the most\n",
    "    incorrect predictions.\n",
    "\n",
    "    :param pred_df: the data frame containing the prediction results, see :meth:`prediction_dataframe`\n",
    "    :param dataset: the dataset used for the model predictions\n",
    "    :param int n: the number of worst predictions to plot\n",
    "    \"\"\"\n",
    "    wrong_df = pred_df[pred_df[\"prediction\"] != pred_df[\"label\"]]\n",
    "    worst_df = wrong_df.sort_values(\n",
    "        \"predict_probability\",\n",
    "        ascending=False\n",
    "    ).head(n)\n",
    "    a = math.floor(math.sqrt(9))\n",
    "    b = math.ceil(n / a)\n",
    "    for i, row in enumerate(worst_df.itertuples()):\n",
    "        image, target = dataset[row.Index]\n",
    "        plt.subplot(a, b, i + 1)\n",
    "        plt.imshow(image.squeeze(), cmap=\"gray\")\n",
    "        plt.title(\n",
    "            f\"Predict: {row.prediction}\\n\"\n",
    "            f\"Label: {row.label}\",\n",
    "        )\n",
    "        plt.axis(False)\n",
    "    plt.tight_layout(w_pad=3)"
   ]
  },
  {
   "cell_type": "code",
   "execution_count": null,
   "id": "4bd776eb",
   "metadata": {},
   "outputs": [
    {
     "data": {
      "image/png": "[encoded data removed]",
      "text/plain": [
       "<Figure size 640x480 with 12 Axes>"
      ]
     },
     "metadata": {},
     "output_type": "display_data"
    }
   ],
   "source": [
    "from predict import plot_worst_predictions\n",
    "\n",
    "plot_worst_predictions(pred_df, test_dataset, n=12)"
   ]
  },
  {
   "cell_type": "markdown",
   "id": "339b5fdc",
   "metadata": {},
   "source": [
    "EMNIST Digits\n",
    "==="
   ]
  },
  {
   "cell_type": "markdown",
   "id": "a377c43a",
   "metadata": {},
   "source": [
    "Preparation\n",
    "---\n",
    "\n",
    "EMNIST contains more handwritten digits data than the MNIST dataset.\n",
    "\n",
    "Note that the data in EMNIST are transposed. Even though this won't hinder the learning process of the SimpleNet, it makes it harder for us to visualize and also to apply this model to MNIST. Therefore, a transpose transformation is applied to the EMNIST dataset before training and testing."
   ]
  },
  {
   "cell_type": "code",
   "execution_count": null,
   "id": "570e7100",
   "metadata": {},
   "outputs": [
    {
     "data": {
      "text/plain": [
       "(240000, 40000)"
      ]
     },
     "execution_count": null,
     "metadata": {},
     "output_type": "execute_result"
    }
   ],
   "source": [
    "from torchvision.datasets import EMNIST\n",
    "\n",
    "class Transpose:\n",
    "    \"\"\"\n",
    "    Given an image in CHW, transpose it into CWH.\n",
    "    \"\"\"\n",
    "\n",
    "    def __call__(self, x: torch.Tensor):\n",
    "        return torch.transpose(x, 1, 2)\n",
    "\n",
    "emnist_transform = Compose([\n",
    "    Resize((32, 32)),\n",
    "    ToTensor(),\n",
    "    Transpose()\n",
    "])\n",
    "\n",
    "emnist_train_dataset = EMNIST(\n",
    "    data_dir,\n",
    "    \"digits\",\n",
    "    train=True,\n",
    "    transform=emnist_transform,\n",
    "    download=True\n",
    ")\n",
    "emnist_test_dataset = EMNIST(\n",
    "    data_dir,\n",
    "    \"digits\",\n",
    "    train=False,\n",
    "    transform=emnist_transform,\n",
    "    download=True\n",
    ")\n",
    "\n",
    "len(emnist_train_dataset), len(emnist_test_dataset)"
   ]
  },
  {
   "cell_type": "markdown",
   "id": "ca8caec3",
   "metadata": {},
   "source": [
    "The classes are named slightly differently in the EMNIST dataset, but it shouldn't have any effect on the training and testing process."
   ]
  },
  {
   "cell_type": "code",
   "execution_count": null,
   "id": "a5036807",
   "metadata": {},
   "outputs": [
    {
     "data": {
      "text/plain": [
       "['0', '1', '2', '3', '4', '5', '6', '7', '8', '9']"
      ]
     },
     "execution_count": null,
     "metadata": {},
     "output_type": "execute_result"
    }
   ],
   "source": [
    "emnist_classes = emnist_test_dataset.classes\n",
    "emnist_classes"
   ]
  },
  {
   "cell_type": "markdown",
   "id": "d972e2f7",
   "metadata": {},
   "source": [
    "Visualize a random subset of the images in the EMNIST digits dataset."
   ]
  },
  {
   "cell_type": "code",
   "execution_count": null,
   "id": "1d0365de",
   "metadata": {},
   "outputs": [
    {
     "data": {
      "image/png": "[encoded data removed]",
      "text/plain": [
       "<Figure size 640x480 with 12 Axes>"
      ]
     },
     "metadata": {},
     "output_type": "display_data"
    }
   ],
   "source": [
    "plot_dataset_images(emnist_test_dataset, 12)"
   ]
  },
  {
   "cell_type": "markdown",
   "id": "69601d86",
   "metadata": {},
   "source": [
    "Create batched data loader for efficient training and testing."
   ]
  },
  {
   "cell_type": "code",
   "execution_count": null,
   "id": "4cbe35a6",
   "metadata": {},
   "outputs": [
    {
     "data": {
      "text/plain": [
       "(1875, 313)"
      ]
     },
     "execution_count": null,
     "metadata": {},
     "output_type": "execute_result"
    }
   ],
   "source": [
    "emnist_train_dataloader = DataLoader(\n",
    "    emnist_train_dataset,\n",
    "    batch_size=BATCH_SIZE,\n",
    "    num_workers=NUM_WORKERS,\n",
    "    pin_memory=PIN_MEMORY\n",
    ")\n",
    "\n",
    "emnist_test_dataloader = DataLoader(\n",
    "    emnist_test_dataset,\n",
    "    batch_size=BATCH_SIZE,\n",
    "    num_workers=NUM_WORKERS,\n",
    "    pin_memory=PIN_MEMORY\n",
    ")\n",
    "\n",
    "len(emnist_train_dataloader), len(emnist_test_dataloader)"
   ]
  },
  {
   "cell_type": "markdown",
   "id": "bc162992",
   "metadata": {},
   "source": [
    "Training and Evaluation\n",
    "---"
   ]
  },
  {
   "cell_type": "markdown",
   "id": "62d3bfc2",
   "metadata": {},
   "source": [
    "Train and test the Slim 310K version of the SimpleNet model using EMNSIT digits dataset."
   ]
  },
  {
   "cell_type": "code",
   "execution_count": null,
   "id": "f5fc891a",
   "metadata": {},
   "outputs": [
    {
     "data": {
      "application/vnd.jupyter.widget-view+json": {
       "model_id": "9c86ef523d2a4051b749ba887b51315e",
       "version_major": 2,
       "version_minor": 0
      },
      "text/plain": [
       "  0%|          | 0/50 [00:00<?, ?epoch/s]"
      ]
     },
     "metadata": {},
     "output_type": "display_data"
    },
    {
     "name": "stdout",
     "output_type": "stream",
     "text": [
      "epoch:     5 | train loss: 0.050 | train accuracy: 99.4% | test loss: 0.057 | test accuracy: 99.4%\n",
      "epoch:    10 | train loss: 0.045 | train accuracy: 99.5% | test loss: 0.049 | test accuracy: 99.4%\n",
      "epoch:    15 | train loss: 0.040 | train accuracy: 99.5% | test loss: 0.049 | test accuracy: 99.4%\n",
      "epoch:    20 | train loss: 0.038 | train accuracy: 99.6% | test loss: 0.043 | test accuracy: 99.4%\n",
      "epoch:    25 | train loss: 0.037 | train accuracy: 99.6% | test loss: 0.043 | test accuracy: 99.4%\n",
      "epoch:    30 | train loss: 0.037 | train accuracy: 99.6% | test loss: 0.046 | test accuracy: 99.4%\n",
      "epoch:    35 | train loss: 0.036 | train accuracy: 99.6% | test loss: 0.046 | test accuracy: 99.4%\n",
      "epoch:    40 | train loss: 0.035 | train accuracy: 99.6% | test loss: 0.036 | test accuracy: 99.5%\n",
      "epoch:    45 | train loss: 0.035 | train accuracy: 99.7% | test loss: 0.043 | test accuracy: 99.4%\n",
      "epoch:    50 | train loss: 0.035 | train accuracy: 99.6% | test loss: 0.037 | test accuracy: 99.5%\n"
     ]
    }
   ],
   "source": [
    "name = \"simpnet_slim_310k_emnist\"\n",
    "epochs = 50\n",
    "\n",
    "simpnet_slim_emnist = SimpnetSlim310K(1, len(classes))\n",
    "loss_fn = nn.CrossEntropyLoss()\n",
    "optimizer = simpnet_slim_emnist.get_optimizer(\n",
    "    torch.optim.RMSprop,\n",
    "    momentum=0.9,\n",
    "    eps=math.sqrt(0.001),\n",
    "    lr=0.00001,\n",
    "    weight_decay=0.0981\n",
    ")\n",
    "\n",
    "torch.manual_seed(SEED)\n",
    "train_test_loop(\n",
    "    simpnet_slim_emnist,\n",
    "    emnist_train_dataloader,\n",
    "    emnist_test_dataloader,\n",
    "    loss_fn,\n",
    "    optimizer,\n",
    "    epochs=epochs,\n",
    "    print_epochs=5,\n",
    "    writer=SummaryWriter(runs_dir / name),\n",
    "    save_to=models_dir / f\"{name}.pt\"\n",
    ")"
   ]
  },
  {
   "cell_type": "markdown",
   "id": "092efc84",
   "metadata": {},
   "source": [
    "Prediction\n",
    "---\n",
    "\n",
    "Load the best performing model saved during training."
   ]
  },
  {
   "cell_type": "code",
   "execution_count": null,
   "id": "79bbbffa",
   "metadata": {},
   "outputs": [
    {
     "data": {
      "text/plain": [
       "<All keys matched successfully>"
      ]
     },
     "execution_count": null,
     "metadata": {},
     "output_type": "execute_result"
    }
   ],
   "source": [
    "simpnet_slim_emnist = SimpnetSlim310K(1, len(classes))\n",
    "simpnet_slim_emnist.load_state_dict(torch.load(models_dir / f\"{name}.pt\"))"
   ]
  },
  {
   "cell_type": "markdown",
   "id": "a8d3d0e7",
   "metadata": {},
   "source": [
    "Evaluate the performance of SimpleNet on EMNIST digits dataset."
   ]
  },
  {
   "cell_type": "code",
   "execution_count": null,
   "id": "13681a2b",
   "metadata": {},
   "outputs": [
    {
     "name": "stdout",
     "output_type": "stream",
     "text": [
      "accuracy: 99.54% | error rate: 0.46%\n"
     ]
    }
   ],
   "source": [
    "_, acc = test_one_epoch(\n",
    "    simpnet_slim_emnist,\n",
    "    emnist_test_dataloader,\n",
    "    loss_fn\n",
    ")\n",
    "\n",
    "print(f\"accuracy: {acc:.2%} | error rate: {1 - acc:.2%}\")"
   ]
  },
  {
   "cell_type": "markdown",
   "id": "5daa0d5c",
   "metadata": {},
   "source": [
    "Predict on the whole test dataset and display the worst predictions."
   ]
  },
  {
   "cell_type": "code",
   "execution_count": null,
   "id": "cd26abe8",
   "metadata": {},
   "outputs": [
    {
     "data": {
      "application/vnd.jupyter.widget-view+json": {
       "model_id": "80d37cdbef1d492b986fc6cf852920ca",
       "version_major": 2,
       "version_minor": 0
      },
      "text/plain": [
       "Predict:   0%|          | 0/40000 [00:00<?, ?sample/s]"
      ]
     },
     "metadata": {},
     "output_type": "display_data"
    },
    {
     "data": {
      "image/png": "[encoded data removed]",
      "text/plain": [
       "<Figure size 640x480 with 12 Axes>"
      ]
     },
     "metadata": {},
     "output_type": "display_data"
    }
   ],
   "source": [
    "torch.manual_seed(SEED)\n",
    "\n",
    "pred_df = prediction_dataframe(\n",
    "    simpnet_slim_emnist,\n",
    "    emnist_test_dataset,\n",
    "    emnist_classes\n",
    ")\n",
    "plot_worst_predictions(pred_df, emnist_test_dataset, n = 12)"
   ]
  }
 ],
 "metadata": {
  "kernelspec": {
   "display_name": "python3",
   "language": "python",
   "name": "python3"
  }
 },
 "nbformat": 4,
 "nbformat_minor": 5
}
