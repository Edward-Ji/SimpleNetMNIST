{
 "cells": [
  {
   "cell_type": "markdown",
   "id": "8440c59a-5b2f-4c91-a2e4-0b86d1b6a580",
   "metadata": {},
   "source": [
    "Abstract\n",
    "===\n",
    "\n",
    "This notebook intends to recreate the SimpleNet model specified in the [Lets keep it simple, Using simple architectures to outperform deeper and more complex architectures](https://arxiv.org/pdf/1608.06037v8.pdf) paper and code using PyTorch. Only the slim version of the model is replicated for use on personal computers with limited computational power. The performance of this implementation is tested against the MNIST datasest."
   ]
  },
  {
   "cell_type": "markdown",
   "id": "d8a62183-4785-4905-8717-83753063ee62",
   "metadata": {},
   "source": [
    "Preparation\n",
    "===\n",
    "\n",
    "Import relevant libraries and ensure they are recent."
   ]
  },
  {
   "cell_type": "code",
   "execution_count": 1,
   "id": "13d0e43a-baf3-4462-aac1-db9bb9b3f3c0",
   "metadata": {},
   "outputs": [
    {
     "name": "stdout",
     "output_type": "stream",
     "text": [
      "torch: 2.1.2\n",
      "torchvision: 0.16.2\n"
     ]
    }
   ],
   "source": [
    "import torch\n",
    "import torchvision\n",
    "\n",
    "print(\"torch:\", torch.__version__)\n",
    "print(\"torchvision:\", torchvision.__version__)"
   ]
  },
  {
   "cell_type": "markdown",
   "id": "413744da-fbd7-4153-a2bb-4a39b9d33b15",
   "metadata": {},
   "source": [
    "Utilities\n",
    "---\n",
    "\n",
    "### Device Agnostic Code\n",
    "\n",
    "Use CUDA on machines with Nvidia GPU, and MPS on Apple machines with M1 series chips; If neither is available, fall back to CPU."
   ]
  },
  {
   "cell_type": "code",
   "execution_count": 2,
   "id": "f9e95902-962d-4571-b546-1eafe850cadf",
   "metadata": {},
   "outputs": [
    {
     "name": "stdout",
     "output_type": "stream",
     "text": [
      "Overwriting utils.py\n"
     ]
    }
   ],
   "source": [
    "%%writefile utils.py\n",
    "\"\"\"\n",
    "Utilities to constructing, training and testing SimpleNet using PyTorch. \n",
    "\"\"\"\n",
    "\n",
    "import torch\n",
    "\n",
    "def get_available_device():\n",
    "    if torch.cuda.is_available():\n",
    "        device = torch.device(\"cuda\")\n",
    "    elif torch.backends.mps.is_available():\n",
    "        device = torch.device(\"mps\")\n",
    "    else:\n",
    "        device = torch.device(\"cpu\")\n",
    "    return device"
   ]
  },
  {
   "cell_type": "code",
   "execution_count": 3,
   "id": "257aec04-312a-4f95-879a-2a7042872e34",
   "metadata": {},
   "outputs": [],
   "source": [
    "from utils import get_available_device\n",
    "\n",
    "device = get_available_device()"
   ]
  },
  {
   "cell_type": "markdown",
   "id": "e89e8e7d-762c-46e3-80a2-e2b87de899c2",
   "metadata": {},
   "source": [
    "Reproducibility\n",
    "---\n",
    "\n",
    "The following seed is used throughout this notebook."
   ]
  },
  {
   "cell_type": "code",
   "execution_count": 4,
   "id": "f5fc502e-7cff-4192-9e1a-cdce4d2be253",
   "metadata": {},
   "outputs": [],
   "source": [
    "SEED = 42"
   ]
  },
  {
   "cell_type": "markdown",
   "id": "51dacf6c-760c-458c-80d5-9a62f2c7bc53",
   "metadata": {},
   "source": [
    "A Glance at the Dataset\n",
    "---\n",
    "\n",
    "PyTorch has MNIST dataset builtin, so it's easy to download it from the Internet and use it with PyTorch."
   ]
  },
  {
   "cell_type": "code",
   "execution_count": 5,
   "id": "dfd786dd-748d-4cf6-906c-1051fe79ade2",
   "metadata": {},
   "outputs": [
    {
     "data": {
      "text/plain": [
       "(60000, 10000, 10)"
      ]
     },
     "execution_count": 5,
     "metadata": {},
     "output_type": "execute_result"
    }
   ],
   "source": [
    "from pathlib import Path\n",
    "from torchvision.datasets import MNIST\n",
    "from torchvision.transforms import ToTensor\n",
    "\n",
    "data_dir = Path(\"data\")\n",
    "\n",
    "train_dataset = MNIST(\n",
    "    data_dir,\n",
    "    transform=ToTensor(),\n",
    "    download=True\n",
    ")\n",
    "test_dataset = MNIST(\n",
    "    data_dir,\n",
    "    train=False,\n",
    "    transform=ToTensor(),\n",
    "    download=True\n",
    ")\n",
    "classes = train_dataset.classes\n",
    "\n",
    "len(train_dataset), len(test_dataset), len(classes)"
   ]
  },
  {
   "cell_type": "markdown",
   "id": "5db18df8-3971-4d5c-b17e-86cf1a6deae6",
   "metadata": {},
   "source": [
    "Visualize some random images from the dataset with their labels."
   ]
  },
  {
   "cell_type": "code",
   "execution_count": 6,
   "id": "272f0ca3-fa6b-417f-8158-1b93d850b871",
   "metadata": {},
   "outputs": [
    {
     "data": {
      "image/png": "[encoded data removed]",
      "text/plain": [
       "<Figure size 640x480 with 12 Axes>"
      ]
     },
     "metadata": {},
     "output_type": "display_data"
    }
   ],
   "source": [
    "import math\n",
    "import random\n",
    "import matplotlib.pyplot as plt\n",
    "\n",
    "def plot_images(dataset, k=9, seed=SEED, title_fn=None):\n",
    "    \"\"\"\n",
    "    Given a dataset, \n",
    "    \"\"\"\n",
    "    random.seed(seed)\n",
    "    idx = random.sample(range(len(train_dataset)), k=k)\n",
    "\n",
    "    a = math.floor(math.sqrt(9))\n",
    "    b = math.ceil(k / a)\n",
    "    for i in range(k):\n",
    "        image, target = train_dataset[idx[i]]\n",
    "        if title_fn is None:\n",
    "            title = f\"{classes[target]}\"\n",
    "        else:\n",
    "            title = title_fn(image)\n",
    "        plt.subplot(a, b, i+1)\n",
    "        plt.imshow(image.squeeze(), cmap=\"gray\")\n",
    "        plt.title(title)\n",
    "        plt.axis(False)\n",
    "\n",
    "plot_images(train_dataset, k=12)\n",
    "plt.show()"
   ]
  },
  {
   "cell_type": "markdown",
   "id": "d670b2cd-ee11-487a-a276-c43bae3cef48",
   "metadata": {},
   "source": [
    "Build\n",
    "==="
   ]
  },
  {
   "cell_type": "markdown",
   "id": "686f1b95-dff3-4a4b-9af1-2427dd3725d3",
   "metadata": {},
   "source": [
    "The SimpleNet Slim Architecture\n",
    "---\n",
    "\n",
    "See [paper](https://arxiv.org/pdf/1608.06037v8.pdf) for a detailed description of the architecture and explanation to some design choices.\n",
    "\n",
    "See [slim version 310K params](https://github.com/Coderx7/SimpleNet/blob/master/SimpNet_V1/Models/Slim_version_310KParams/train_test.prototxt) for details of the model architecture related to the above paper. The architecture is specified for use with [Caffe](https://caffe.berkeleyvision.org/), which is different to PyTorch in the implementation of some functionalities. Those discrepancies require extra attention.\n",
    "\n",
    "Use [Netscope](https://ethereon.github.io/netscope/#/editor) for a visualization of the model architecture: paste in the `prototxt` file content and press <kbd>Shift</kbd>+<kbd>Enter</kbd>."
   ]
  },
  {
   "cell_type": "code",
   "execution_count": 7,
   "id": "e1de58ea-872a-4557-a2cb-cb43b234e5ef",
   "metadata": {},
   "outputs": [
    {
     "name": "stdout",
     "output_type": "stream",
     "text": [
      "Overwriting simpnet.py\n"
     ]
    }
   ],
   "source": [
    "%%writefile simpnet.py\n",
    "\"\"\"\n",
    "An implementation of the SimpleNet slim version (310K params) and some helper\n",
    "modules.\n",
    "\"\"\"\n",
    "\n",
    "import torch\n",
    "\n",
    "from collections import OrderedDict\n",
    "from torch import nn"
   ]
  },
  {
   "cell_type": "markdown",
   "id": "5db0fc11-76e7-43a3-952a-5aee1836767a",
   "metadata": {},
   "source": [
    "The SimpleNet architecture make use of a scaling layer not built into PyTorch, so we implement it ourselves. According to the [source code](https://github.com/BVLC/caffe/blob/9b891540183ddc834a02b2bd81b31afae71b2153/src/caffe/layers/scale_layer.cpp#L36C1-L40C6) of Caffe, the layer is initialized as an identity operation if the filler parameter is not provided:\n",
    "\n",
    "> ```\n",
    ">     if (!param.has_filler()) {\n",
    ">         // Default to unit (1) filler for identity operation.\n",
    ">         filler_param.set_type(\"constant\");\n",
    ">         filler_param.set_value(1);\n",
    ">     }\n",
    "> ```"
   ]
  },
  {
   "cell_type": "code",
   "execution_count": 8,
   "id": "034248ef-22fb-4360-8052-dccf24911fb9",
   "metadata": {},
   "outputs": [
    {
     "name": "stdout",
     "output_type": "stream",
     "text": [
      "Appending to simpnet.py\n"
     ]
    }
   ],
   "source": [
    "%%writefile -a simpnet.py\n",
    "\n",
    "class Scale(nn.Module):\n",
    "    \"\"\"\n",
    "    Scales input by a scalar factor and add a scalar bias to it.\n",
    "\n",
    "    The module is intialized as an identity operation but both the factor and\n",
    "    the bias term is learnable.\n",
    "    \"\"\"\n",
    "\n",
    "    def __init__(self):\n",
    "        super().__init__()\n",
    "        self.factor = nn.Parameter(torch.ones(1), requires_grad=True)\n",
    "        self.bias = nn.Parameter(torch.zeros(1), requires_grad=True)\n",
    "\n",
    "    def forward(self, x: torch.Tensor) -> torch.Tensor:\n",
    "        return x * self.factor + self.bias"
   ]
  },
  {
   "cell_type": "markdown",
   "id": "779dadfb-2572-40f6-a75d-f5152fb7dc17",
   "metadata": {},
   "source": [
    "In section 3.0.2 of the paper, it reads\n",
    "> Instead of thinking in layers, think and design in group of homogeneous layers.\n",
    "\n",
    "In this spirit, the model architecture contains a series of \"blocks\" with a convolution layer followed by a batch normalization layer, a scaling layer, and a reLU layer. To allow easy creation of those blocks, we encapsulate it in a Python class.\n",
    "\n",
    "One thing to note is that the momentum parameter in PyTorch batch normalization layer is not the same as that in Caffe. In [Caffe](https://github.com/BVLC/caffe/blob/9b891540183ddc834a02b2bd81b31afae71b2153/src/caffe/proto/caffe.proto#L538-L541),\n",
    "> Each iteration updates the moving average $S_{t-1}$ with the current mean $Y_t$ by $S_t = (1-\\beta)Y_t + \\beta \\cdot S_{t-1}$, where $\\beta$ is the moving_average_fraction parameter.\n",
    "\n",
    "However, in [PyTorch][ref],\n",
    "> Mathematically, the update rule for running statistics here is $\\hat{x}_\\text{new} = (1 - \\text{momentum}) \\times \\hat{x} + \\text{momentum} \\times x_t$, $\\hat{x}$ is the estimated statistic and $x_t$ is the new observed value.\n",
    "\n",
    "[ref]: https://pytorch.org/docs/stable/generated/torch.nn.BatchNorm2d.html#torch.nn.BatchNorm2d:~:text=Mathematically%2C%20the%20update,new%20observed%20value."
   ]
  },
  {
   "cell_type": "code",
   "execution_count": 9,
   "id": "ce4db8e6-ba32-483f-a1dd-557c08179d0d",
   "metadata": {},
   "outputs": [
    {
     "name": "stdout",
     "output_type": "stream",
     "text": [
      "Appending to simpnet.py\n"
     ]
    }
   ],
   "source": [
    "%%writefile -a simpnet.py\n",
    "\n",
    "class SimpnetBlock(nn.Module):\n",
    "    \"\"\"\n",
    "    A group of homogeneous layers used in SimpleNet.\n",
    "\n",
    "    It contains a 3x3 convolution that can be initialized using either Xavier or\n",
    "    Gaussian normal, followed by a batch normalization layer, a scaling layer,\n",
    "    and a reLU layer.\n",
    "    \"\"\"\n",
    "\n",
    "    def __init__(self,\n",
    "                 in_channels,\n",
    "                 out_channels,\n",
    "                 weight_filler_type=\"xavier\"\n",
    "                 ):\n",
    "        super().__init__()\n",
    "        \n",
    "        self.conv = nn.Conv2d(\n",
    "            in_channels=in_channels,\n",
    "            out_channels=out_channels,  # num_output\n",
    "            kernel_size=3,              # kernel_size\n",
    "            stride=1,                   # stride\n",
    "            padding=\"same\"              # pad\n",
    "        )\n",
    "\n",
    "        # weight_filler\n",
    "        if weight_filler_type == \"xavier\":\n",
    "            nn.init.xavier_normal_(self.conv.weight)\n",
    "        elif weight_filler_type == \"gaussian\":\n",
    "            nn.init.normal_(self.conv.weight, std=0.01)\n",
    "        else:\n",
    "            raise ValueError(f\"invalid weight filler type {weight_filler_type}\")\n",
    "        \n",
    "        self.bn = nn.BatchNorm2d(\n",
    "            num_features=out_channels,  # num_output\n",
    "            momentum=0.05,              # 1 - moving_average_fraction\n",
    "            affine=False                # param\n",
    "        )\n",
    "        self.scale = Scale()\n",
    "        self.relu = nn.ReLU(inplace=True)\n",
    "\n",
    "    def forward(self, x: torch.Tensor) -> torch.Tensor:\n",
    "        return self.relu(self.scale(self.bn(self.conv(x))))"
   ]
  },
  {
   "cell_type": "markdown",
   "id": "f587282f-945b-40a7-96fb-c2ac941c1a45",
   "metadata": {},
   "source": [
    "Section 3.1 of the paper claims\n",
    ">  Preferably use 1×1 kernels at the end of the network...\n",
    "\n",
    "The final blocks of the architecture each consists of a convolution layer followed by only a reLU layer. The bias is initialized to zeroes."
   ]
  },
  {
   "cell_type": "code",
   "execution_count": 10,
   "id": "dd59fdbf-0acc-4ec5-8799-7177631fa292",
   "metadata": {},
   "outputs": [
    {
     "name": "stdout",
     "output_type": "stream",
     "text": [
      "Appending to simpnet.py\n"
     ]
    }
   ],
   "source": [
    "%%writefile -a simpnet.py\n",
    "\n",
    "class SimpnetCCCP(nn.Module):\n",
    "    \"\"\"\n",
    "    A group of layers used at the end of SimpleNet.\n",
    "\n",
    "    It consists of a convolution layer with zero-initialized bias followed by a\n",
    "    reLU layer.\n",
    "    \"\"\"\n",
    "\n",
    "    def __init__(self,\n",
    "                 in_channels,\n",
    "                 out_channels,\n",
    "                 kernel_size=1,\n",
    "                 padding=0\n",
    "                 ):\n",
    "        super().__init__()\n",
    "        self.conv = nn.Conv2d(\n",
    "            in_channels=in_channels,\n",
    "            out_channels=out_channels,\n",
    "            kernel_size=kernel_size,\n",
    "            padding=padding\n",
    "        )\n",
    "        nn.init.constant_(self.conv.bias, 0)\n",
    "        self.relu = nn.ReLU(inplace=True)\n",
    "\n",
    "    def forward(self, x: torch.Tensor) -> torch.Tensor:\n",
    "        return self.relu(self.conv(x))"
   ]
  },
  {
   "cell_type": "markdown",
   "id": "4bbcd54c-b1b7-42bf-bb12-386f16e33248",
   "metadata": {},
   "source": [
    "From the above components, one can construct the full SimpleNet model. For faster computation on personal machines, the implemented model is the \"slimmest\" SimpleNet model in the paper with only 310K parameters.\n",
    "\n",
    "Note that some of the convolution layers later in the model has\n",
    "> ```\n",
    "> param {\n",
    ">     lr_mult: 1\n",
    ">     decay_mult: 1\n",
    "> }\n",
    "> param {\n",
    ">     lr_mult: 2\n",
    ">     decay_mult: 0\n",
    "> }\n",
    "> ```\n",
    "\n",
    "In PyTorch, this has to be specified in the `params` parameter when instantiating an `Optimizer`. This implementation includes a method for creating such an optimizer with learning rate and decay multiplier correctly configured."
   ]
  },
  {
   "cell_type": "code",
   "execution_count": 11,
   "id": "48ad6d1f-16dc-4669-b7da-b8291ba50ce3",
   "metadata": {},
   "outputs": [
    {
     "name": "stdout",
     "output_type": "stream",
     "text": [
      "Appending to simpnet.py\n"
     ]
    }
   ],
   "source": [
    "%%writefile -a simpnet.py\n",
    "\n",
    "class SimpnetSlim310K(nn.Module):\n",
    "    \"\"\"\n",
    "    The slimmest SimpleNet with only 310K parameters.\n",
    "    \"\"\"\n",
    "\n",
    "    def __init__(self, in_channels, out_features, ip_features=64):\n",
    "        super().__init__()\n",
    "        self.features = nn.Sequential(OrderedDict([\n",
    "            (\"block1\", SimpnetBlock(in_channels=in_channels,\n",
    "                                    out_channels=64)),\n",
    "            (\"block1_0\", SimpnetBlock(in_channels=64,\n",
    "                                      out_channels=32)),\n",
    "            (\"block2\", SimpnetBlock(in_channels=32,\n",
    "                                    out_channels=32,\n",
    "                                    weight_filler_type=\"gaussian\")),\n",
    "            (\"block2_1\", SimpnetBlock(in_channels=32,\n",
    "                                      out_channels=32,\n",
    "                                      weight_filler_type=\"gaussian\")),\n",
    "            (\"pool2_1\", nn.MaxPool2d(kernel_size=2)),\n",
    "            (\"block2_2\", SimpnetBlock(in_channels=32,\n",
    "                                      out_channels=32,\n",
    "                                      weight_filler_type=\"gaussian\")),\n",
    "            (\"block3\", SimpnetBlock(in_channels=32,\n",
    "                                    out_channels=32)),\n",
    "            (\"conv4\", nn.Conv2d(in_channels=32,\n",
    "                                out_channels=64,\n",
    "                                kernel_size=3,\n",
    "                                stride=1,\n",
    "                                padding=\"same\")),\n",
    "            (\"pool4\", nn.MaxPool2d(kernel_size=2)),\n",
    "            (\"bn4\", nn.BatchNorm2d(num_features=64,\n",
    "                                   momentum=0.05,\n",
    "                                   affine=False)),\n",
    "            (\"scale4\", Scale()),\n",
    "            (\"relu4\", nn.ReLU(inplace=True)),\n",
    "            (\"block4_1\", SimpnetBlock(in_channels=64,\n",
    "                                      out_channels=64)),\n",
    "            (\"block4_2\", SimpnetBlock(in_channels=64,\n",
    "                                      out_channels=64)),\n",
    "            (\"pool4_2\", nn.MaxPool2d(kernel_size=2)),\n",
    "            (\"block4_0\", SimpnetBlock(in_channels=64,\n",
    "                                      out_channels=128)),\n",
    "            (\"cccp4\", SimpnetCCCP(in_channels=128,\n",
    "                                  out_channels=256)),\n",
    "            (\"cccp5\", SimpnetCCCP(in_channels=256,\n",
    "                                  out_channels=64)),\n",
    "            (\"poolcp5\", nn.MaxPool2d(kernel_size=2)),\n",
    "            (\"cccp6\", SimpnetCCCP(in_channels=64,\n",
    "                                  out_channels=64,\n",
    "                                  kernel_size=3,\n",
    "                                  padding=1)),\n",
    "            (\"poolcp6\", nn.MaxPool2d(kernel_size=2)),\n",
    "        ]))\n",
    "\n",
    "        self.ip1 = nn.Linear(\n",
    "            in_features=ip_features,\n",
    "            out_features=out_features\n",
    "        )\n",
    "        nn.init.xavier_normal_(self.ip1.weight)\n",
    "        nn.init.constant_(self.ip1.bias, 0)\n",
    "        self.classifier = nn.Sequential(\n",
    "            nn.Flatten(),\n",
    "            self.ip1\n",
    "        )\n",
    "        \n",
    "    def forward(self, x: torch.Tensor) -> torch.Tensor:\n",
    "        return self.classifier(self.features(x))\n",
    "\n",
    "    def get_optimizer(self,\n",
    "                      optimizer_cls: type[torch.optim.Optimizer],\n",
    "                      **kwargs\n",
    "                      ) -> torch.optim.Optimizer:\n",
    "        \"\"\"\n",
    "        Creates an optimizer with learning rate and weight decay correctly\n",
    "        configured for this model.\n",
    "\n",
    "        :param optimizer_cls: the optimizer class to instantiate with\n",
    "        :param kwargs: the keyword arguments to pass to the optimizer class (must contain `lr`)\n",
    "        :returns: an optimizer instance correctly configured for this model\n",
    "        \"\"\"\n",
    "        lr = kwargs[\"lr\"]\n",
    "        params = set(self.parameters())\n",
    "        custom = {\n",
    "            self.features.cccp4.conv.bias,\n",
    "            self.features.cccp5.conv.bias,\n",
    "            self.features.cccp6.conv.bias,\n",
    "        }\n",
    "        optimizer = optimizer_cls(\n",
    "            [\n",
    "                {\"params\": list(params - custom)},\n",
    "                {\"params\": list(custom), \"lr\": 2 * lr, \"weight_decay\": 0}\n",
    "            ],\n",
    "            **kwargs\n",
    "        )\n",
    "\n",
    "        return optimizer"
   ]
  },
  {
   "cell_type": "markdown",
   "id": "1c04925e-4d9e-411e-b6b9-fe5aec3e6172",
   "metadata": {},
   "source": [
    "Summarize the model architecture with test input size:\n",
    "- 128 samples per batch\n",
    "- 1 color channel\n",
    "- 32 pixels wide\n",
    "- 32 pixels high\n",
    "\n",
    "The test image is upscaled to 32 by 32 (instead of the original 28 by 28) because otherwise the tensor would become zero-sized after going through the deep network and produces an error."
   ]
  },
  {
   "cell_type": "code",
   "execution_count": 12,
   "id": "ed88ca59-8f75-45f7-bce7-d566b582a29b",
   "metadata": {
    "scrolled": true
   },
   "outputs": [
    {
     "data": {
      "text/plain": [
       "==========================================================================================\n",
       "Layer (type:depth-idx)                   Output Shape              Param #\n",
       "==========================================================================================\n",
       "SimpnetSlim310K                          [128, 10]                 --\n",
       "├─Sequential: 1-1                        [128, 64, 1, 1]           --\n",
       "│    └─SimpnetBlock: 2-1                 [128, 64, 32, 32]         --\n",
       "│    │    └─Conv2d: 3-1                  [128, 64, 32, 32]         640\n",
       "│    │    └─BatchNorm2d: 3-2             [128, 64, 32, 32]         --\n",
       "│    │    └─Scale: 3-3                   [128, 64, 32, 32]         2\n",
       "│    │    └─ReLU: 3-4                    [128, 64, 32, 32]         --\n",
       "│    └─SimpnetBlock: 2-2                 [128, 32, 32, 32]         --\n",
       "│    │    └─Conv2d: 3-5                  [128, 32, 32, 32]         18,464\n",
       "│    │    └─BatchNorm2d: 3-6             [128, 32, 32, 32]         --\n",
       "│    │    └─Scale: 3-7                   [128, 32, 32, 32]         2\n",
       "│    │    └─ReLU: 3-8                    [128, 32, 32, 32]         --\n",
       "│    └─SimpnetBlock: 2-3                 [128, 32, 32, 32]         --\n",
       "│    │    └─Conv2d: 3-9                  [128, 32, 32, 32]         9,248\n",
       "│    │    └─BatchNorm2d: 3-10            [128, 32, 32, 32]         --\n",
       "│    │    └─Scale: 3-11                  [128, 32, 32, 32]         2\n",
       "│    │    └─ReLU: 3-12                   [128, 32, 32, 32]         --\n",
       "│    └─SimpnetBlock: 2-4                 [128, 32, 32, 32]         --\n",
       "│    │    └─Conv2d: 3-13                 [128, 32, 32, 32]         9,248\n",
       "│    │    └─BatchNorm2d: 3-14            [128, 32, 32, 32]         --\n",
       "│    │    └─Scale: 3-15                  [128, 32, 32, 32]         2\n",
       "│    │    └─ReLU: 3-16                   [128, 32, 32, 32]         --\n",
       "│    └─MaxPool2d: 2-5                    [128, 32, 16, 16]         --\n",
       "│    └─SimpnetBlock: 2-6                 [128, 32, 16, 16]         --\n",
       "│    │    └─Conv2d: 3-17                 [128, 32, 16, 16]         9,248\n",
       "│    │    └─BatchNorm2d: 3-18            [128, 32, 16, 16]         --\n",
       "│    │    └─Scale: 3-19                  [128, 32, 16, 16]         2\n",
       "│    │    └─ReLU: 3-20                   [128, 32, 16, 16]         --\n",
       "│    └─SimpnetBlock: 2-7                 [128, 32, 16, 16]         --\n",
       "│    │    └─Conv2d: 3-21                 [128, 32, 16, 16]         9,248\n",
       "│    │    └─BatchNorm2d: 3-22            [128, 32, 16, 16]         --\n",
       "│    │    └─Scale: 3-23                  [128, 32, 16, 16]         2\n",
       "│    │    └─ReLU: 3-24                   [128, 32, 16, 16]         --\n",
       "│    └─Conv2d: 2-8                       [128, 64, 16, 16]         18,496\n",
       "│    └─MaxPool2d: 2-9                    [128, 64, 8, 8]           --\n",
       "│    └─BatchNorm2d: 2-10                 [128, 64, 8, 8]           --\n",
       "│    └─Scale: 2-11                       [128, 64, 8, 8]           2\n",
       "│    └─ReLU: 2-12                        [128, 64, 8, 8]           --\n",
       "│    └─SimpnetBlock: 2-13                [128, 64, 8, 8]           --\n",
       "│    │    └─Conv2d: 3-25                 [128, 64, 8, 8]           36,928\n",
       "│    │    └─BatchNorm2d: 3-26            [128, 64, 8, 8]           --\n",
       "│    │    └─Scale: 3-27                  [128, 64, 8, 8]           2\n",
       "│    │    └─ReLU: 3-28                   [128, 64, 8, 8]           --\n",
       "│    └─SimpnetBlock: 2-14                [128, 64, 8, 8]           --\n",
       "│    │    └─Conv2d: 3-29                 [128, 64, 8, 8]           36,928\n",
       "│    │    └─BatchNorm2d: 3-30            [128, 64, 8, 8]           --\n",
       "│    │    └─Scale: 3-31                  [128, 64, 8, 8]           2\n",
       "│    │    └─ReLU: 3-32                   [128, 64, 8, 8]           --\n",
       "│    └─MaxPool2d: 2-15                   [128, 64, 4, 4]           --\n",
       "│    └─SimpnetBlock: 2-16                [128, 128, 4, 4]          --\n",
       "│    │    └─Conv2d: 3-33                 [128, 128, 4, 4]          73,856\n",
       "│    │    └─BatchNorm2d: 3-34            [128, 128, 4, 4]          --\n",
       "│    │    └─Scale: 3-35                  [128, 128, 4, 4]          2\n",
       "│    │    └─ReLU: 3-36                   [128, 128, 4, 4]          --\n",
       "│    └─SimpnetCCCP: 2-17                 [128, 256, 4, 4]          --\n",
       "│    │    └─Conv2d: 3-37                 [128, 256, 4, 4]          33,024\n",
       "│    │    └─ReLU: 3-38                   [128, 256, 4, 4]          --\n",
       "│    └─SimpnetCCCP: 2-18                 [128, 64, 4, 4]           --\n",
       "│    │    └─Conv2d: 3-39                 [128, 64, 4, 4]           16,448\n",
       "│    │    └─ReLU: 3-40                   [128, 64, 4, 4]           --\n",
       "│    └─MaxPool2d: 2-19                   [128, 64, 2, 2]           --\n",
       "│    └─SimpnetCCCP: 2-20                 [128, 64, 2, 2]           --\n",
       "│    │    └─Conv2d: 3-41                 [128, 64, 2, 2]           36,928\n",
       "│    │    └─ReLU: 3-42                   [128, 64, 2, 2]           --\n",
       "│    └─MaxPool2d: 2-21                   [128, 64, 1, 1]           --\n",
       "├─Sequential: 1-2                        [128, 10]                 --\n",
       "│    └─Flatten: 2-22                     [128, 64]                 --\n",
       "│    └─Linear: 2-23                      [128, 10]                 650\n",
       "==========================================================================================\n",
       "Total params: 309,374\n",
       "Trainable params: 309,374\n",
       "Non-trainable params: 0\n",
       "Total mult-adds (Units.GIGABYTES): 7.02\n",
       "==========================================================================================\n",
       "Input size (MB): 0.52\n",
       "Forward/backward pass size (MB): 416.56\n",
       "Params size (MB): 1.24\n",
       "Estimated Total Size (MB): 418.32\n",
       "=========================================================================================="
      ]
     },
     "execution_count": 12,
     "metadata": {},
     "output_type": "execute_result"
    }
   ],
   "source": [
    "from torchinfo import summary\n",
    "from simpnet import SimpnetSlim310K\n",
    "\n",
    "simpnet_slim = SimpnetSlim310K(\n",
    "    in_channels=1,\n",
    "    out_features=len(classes)\n",
    ")\n",
    "summary(simpnet_slim, (128, 1, 32, 32))"
   ]
  },
  {
   "cell_type": "markdown",
   "id": "68c74053-1f5e-4168-bd04-27c9452a46e5",
   "metadata": {},
   "source": [
    "Transformation and Data Loader\n",
    "---\n",
    "\n",
    "As explained above, the images should be upscaled to at least 32 by 32 to prevent a runtime error."
   ]
  },
  {
   "cell_type": "code",
   "execution_count": 13,
   "id": "d3600f44-5ddd-4a59-a1b2-b48112c37c98",
   "metadata": {},
   "outputs": [],
   "source": [
    "from torchvision.transforms import Compose, Resize\n",
    "\n",
    "simple_transform = Compose([\n",
    "    Resize((32, 32)),\n",
    "    ToTensor()\n",
    "])\n",
    "train_dataset = MNIST(\n",
    "    data_dir,\n",
    "    transform=simple_transform,\n",
    "    download=True\n",
    ")\n",
    "test_dataset = MNIST(\n",
    "    data_dir,\n",
    "    train=False,\n",
    "    transform=simple_transform,\n",
    "    download=True\n",
    ")\n",
    "classes = train_dataset.classes"
   ]
  },
  {
   "cell_type": "markdown",
   "id": "8c1c86d2-12b9-426e-a833-b60c8dc709e0",
   "metadata": {},
   "source": [
    "Create data loader for faster computation in batches."
   ]
  },
  {
   "cell_type": "code",
   "execution_count": 14,
   "id": "91230ed0-5426-4110-b11e-8c518e60d4e0",
   "metadata": {},
   "outputs": [
    {
     "data": {
      "text/plain": [
       "(469, 79)"
      ]
     },
     "execution_count": 14,
     "metadata": {},
     "output_type": "execute_result"
    }
   ],
   "source": [
    "from torch.utils.data import DataLoader\n",
    "\n",
    "BATCH_SIZE = 128\n",
    "NUM_WORKERS = 0\n",
    "\n",
    "train_dataloader = DataLoader(\n",
    "    train_dataset,\n",
    "    batch_size=BATCH_SIZE,\n",
    "    shuffle=True,\n",
    "    num_workers=NUM_WORKERS\n",
    ")\n",
    "test_dataloader = DataLoader(\n",
    "    test_dataset,\n",
    "    batch_size=BATCH_SIZE,\n",
    "    num_workers=NUM_WORKERS\n",
    ")\n",
    "\n",
    "len(train_dataloader), len(test_dataloader)"
   ]
  },
  {
   "cell_type": "markdown",
   "id": "ae0982b7-5278-415d-8870-44dc35871378",
   "metadata": {},
   "source": [
    "## Train and Test Loop"
   ]
  },
  {
   "cell_type": "code",
   "execution_count": 15,
   "id": "4a5c87f1-fc9b-49a0-84d1-8b35870cb949",
   "metadata": {},
   "outputs": [
    {
     "name": "stdout",
     "output_type": "stream",
     "text": [
      "Overwriting train.py\n"
     ]
    }
   ],
   "source": [
    "%%writefile train.py\n",
    "\"\"\"\n",
    "Train and test PyTorch models with data loaders.\n",
    "\"\"\"\n",
    "\n",
    "import torch\n",
    "\n",
    "from pathlib import Path\n",
    "\n",
    "from torch import nn\n",
    "from torch.utils.data import DataLoader\n",
    "from torch.utils.tensorboard import SummaryWriter\n",
    "from tqdm.auto import tqdm\n",
    "\n",
    "from utils import get_available_device\n",
    "\n",
    "device = get_available_device()\n",
    "\n",
    "def train_one_epoch(model: nn.Module,\n",
    "                    dataloader: DataLoader,\n",
    "                    loss_fn: nn.Module,\n",
    "                    optimizer: torch.optim.Optimizer,\n",
    "                    device: torch.device = device,\n",
    "                    ):\n",
    "    model.to(device)\n",
    "    model.train()\n",
    "\n",
    "    running_loss = 0.\n",
    "    running_acc = 0.\n",
    "\n",
    "    for i, data in enumerate(tqdm(dataloader,\n",
    "                                  desc=\"Train\",\n",
    "                                  leave=False,\n",
    "                                  unit=\"batch\")):\n",
    "        inputs, labels = data\n",
    "\n",
    "        inputs = inputs.to(device)\n",
    "        labels = labels.to(device)\n",
    "\n",
    "        optimizer.zero_grad()\n",
    "\n",
    "        outputs = model(inputs)\n",
    "\n",
    "        loss = loss_fn(outputs, labels)\n",
    "        loss.backward()\n",
    "\n",
    "        optimizer.step()\n",
    "\n",
    "        running_loss += loss.item()\n",
    "        correct = torch.sum(labels == torch.argmax(outputs, dim=1)).item()\n",
    "        running_acc += correct / len(labels)\n",
    "\n",
    "    return running_loss / len(dataloader), running_acc / len(dataloader)\n",
    "\n",
    "def test_one_epoch(model: nn.Module,\n",
    "                   dataloader: DataLoader,\n",
    "                   loss_fn: nn.Module,\n",
    "                   device: torch.device = device,\n",
    "                   ):\n",
    "    model.to(device)\n",
    "    model.eval()\n",
    "\n",
    "    running_loss = 0.\n",
    "    running_acc = 0.\n",
    "\n",
    "    with torch.inference_mode():\n",
    "        for i, data in enumerate(tqdm(dataloader,\n",
    "                                      desc=\"Test\",\n",
    "                                      leave=False,\n",
    "                                      unit=\"batch\")):\n",
    "            inputs, labels = data\n",
    "            inputs = inputs.to(device)\n",
    "            labels = labels.to(device)\n",
    "            outputs = model(inputs)    \n",
    "            loss = loss_fn(outputs, labels)\n",
    "            \n",
    "            running_loss += loss.item()\n",
    "            correct = torch.sum(labels == torch.argmax(outputs, dim=1)).item()\n",
    "            running_acc += correct / len(labels)\n",
    "\n",
    "    return running_loss / len(dataloader), running_acc / len(dataloader)\n",
    "\n",
    "def train_test_loop(model: nn.Module,\n",
    "                    train_dataloader: DataLoader,\n",
    "                    test_dataloader: DataLoader,\n",
    "                    loss_fn: nn.Module,\n",
    "                    optimizer: torch.optim.Optimizer,\n",
    "                    *,\n",
    "                    epochs: int = 5,\n",
    "                    device: torch.device = device,\n",
    "                    writer: SummaryWriter = None,\n",
    "                    save_to = None\n",
    "                    ):\n",
    "    \"\"\"\n",
    "    Train and test a model using the given train and test data loaders, loss\n",
    "    function, and optimizer.\n",
    "\n",
    "    :param model: model to train and test\n",
    "    :param train_dataloader: data loader for training\n",
    "    :param test_dataloader: data loader for testing\n",
    "    :param loss_fn: loss function\n",
    "    :param optimizer: optimizer\n",
    "    :param epochs: train for this many iterations\n",
    "    :param device: device to train the model on\n",
    "    :param writer: a summary writer to write statistics to\n",
    "    :param save_to: a path to save the model with highest accuracy\n",
    "    \"\"\"\n",
    "    if save_to is not None:\n",
    "        save_to = Path(save_to)\n",
    "        save_to.parent.mkdir(parents=True, exist_ok=True)\n",
    "\n",
    "    best_test_acc = 0\n",
    "    for epoch in tqdm(range(1, epochs + 1), unit=\"epoch\"):\n",
    "        avg_train_loss, avg_train_acc = train_one_epoch(\n",
    "            model,\n",
    "            train_dataloader,\n",
    "            loss_fn,\n",
    "            optimizer,\n",
    "            device\n",
    "        )\n",
    "\n",
    "        avg_test_loss, avg_test_acc = test_one_epoch(\n",
    "            model,\n",
    "            test_dataloader,\n",
    "            loss_fn,\n",
    "            device\n",
    "        )\n",
    "    \n",
    "        tqdm.write(\n",
    "            f\"epoch: {epoch:5d} |\"\n",
    "            f\" train loss: {avg_train_loss:.3f} |\"\n",
    "            f\" train accuracy: {avg_train_acc:.1%} |\"\n",
    "            f\" test loss: {avg_test_loss:.3f} |\"\n",
    "            f\" test accuracy: {avg_test_acc:.1%}\"\n",
    "        )\n",
    "        \n",
    "        if writer is not None:\n",
    "            writer.add_scalars(\n",
    "                \"Training vs. Test Loss\",\n",
    "                {\"Training\": avg_train_loss, \"Test\": avg_test_loss},\n",
    "                epoch\n",
    "            )\n",
    "            writer.add_scalars(\n",
    "                \"Training vs. Test Accuracy\",\n",
    "                {\"Training\": avg_train_acc, \"Test\": avg_test_acc},\n",
    "                epoch\n",
    "            )\n",
    "            writer.flush()\n",
    "\n",
    "        if save_to is not None and avg_test_acc > best_test_acc:\n",
    "            best_test_acc = avg_test_acc\n",
    "            torch.save(model.state_dict(), save_to)"
   ]
  },
  {
   "cell_type": "code",
   "execution_count": 16,
   "id": "345da082-8ed1-4040-b503-fd7810835578",
   "metadata": {
    "scrolled": true
   },
   "outputs": [
    {
     "data": {
      "application/vnd.jupyter.widget-view+json": {
       "model_id": "82bc055a4afb4db98f1ea0cb3755e67b",
       "version_major": 2,
       "version_minor": 0
      },
      "text/plain": [
       "  0%|          | 0/50 [00:00<?, ?epoch/s]"
      ]
     },
     "metadata": {},
     "output_type": "display_data"
    },
    {
     "data": {
      "application/vnd.jupyter.widget-view+json": {
       "model_id": "",
       "version_major": 2,
       "version_minor": 0
      },
      "text/plain": [
       "Train:   0%|          | 0/469 [00:00<?, ?batch/s]"
      ]
     },
     "metadata": {},
     "output_type": "display_data"
    },
    {
     "data": {
      "application/vnd.jupyter.widget-view+json": {
       "model_id": "",
       "version_major": 2,
       "version_minor": 0
      },
      "text/plain": [
       "Test:   0%|          | 0/79 [00:00<?, ?batch/s]"
      ]
     },
     "metadata": {},
     "output_type": "display_data"
    },
    {
     "name": "stdout",
     "output_type": "stream",
     "text": [
      "epoch:     1 | train loss: 2.139 | train accuracy: 38.3% | test loss: 1.829 | test accuracy: 52.5%\n"
     ]
    },
    {
     "data": {
      "application/vnd.jupyter.widget-view+json": {
       "model_id": "",
       "version_major": 2,
       "version_minor": 0
      },
      "text/plain": [
       "Train:   0%|          | 0/469 [00:00<?, ?batch/s]"
      ]
     },
     "metadata": {},
     "output_type": "display_data"
    },
    {
     "data": {
      "application/vnd.jupyter.widget-view+json": {
       "model_id": "",
       "version_major": 2,
       "version_minor": 0
      },
      "text/plain": [
       "Test:   0%|          | 0/79 [00:00<?, ?batch/s]"
      ]
     },
     "metadata": {},
     "output_type": "display_data"
    },
    {
     "name": "stdout",
     "output_type": "stream",
     "text": [
      "epoch:     2 | train loss: 0.981 | train accuracy: 76.0% | test loss: 0.537 | test accuracy: 88.4%\n"
     ]
    },
    {
     "data": {
      "application/vnd.jupyter.widget-view+json": {
       "model_id": "",
       "version_major": 2,
       "version_minor": 0
      },
      "text/plain": [
       "Train:   0%|          | 0/469 [00:00<?, ?batch/s]"
      ]
     },
     "metadata": {},
     "output_type": "display_data"
    },
    {
     "data": {
      "application/vnd.jupyter.widget-view+json": {
       "model_id": "",
       "version_major": 2,
       "version_minor": 0
      },
      "text/plain": [
       "Test:   0%|          | 0/79 [00:00<?, ?batch/s]"
      ]
     },
     "metadata": {},
     "output_type": "display_data"
    },
    {
     "name": "stdout",
     "output_type": "stream",
     "text": [
      "epoch:     3 | train loss: 0.172 | train accuracy: 96.7% | test loss: 0.169 | test accuracy: 97.3%\n"
     ]
    },
    {
     "data": {
      "application/vnd.jupyter.widget-view+json": {
       "model_id": "",
       "version_major": 2,
       "version_minor": 0
      },
      "text/plain": [
       "Train:   0%|          | 0/469 [00:00<?, ?batch/s]"
      ]
     },
     "metadata": {},
     "output_type": "display_data"
    },
    {
     "data": {
      "application/vnd.jupyter.widget-view+json": {
       "model_id": "",
       "version_major": 2,
       "version_minor": 0
      },
      "text/plain": [
       "Test:   0%|          | 0/79 [00:00<?, ?batch/s]"
      ]
     },
     "metadata": {},
     "output_type": "display_data"
    },
    {
     "name": "stdout",
     "output_type": "stream",
     "text": [
      "epoch:     4 | train loss: 0.100 | train accuracy: 98.2% | test loss: 0.123 | test accuracy: 98.0%\n"
     ]
    },
    {
     "data": {
      "application/vnd.jupyter.widget-view+json": {
       "model_id": "",
       "version_major": 2,
       "version_minor": 0
      },
      "text/plain": [
       "Train:   0%|          | 0/469 [00:00<?, ?batch/s]"
      ]
     },
     "metadata": {},
     "output_type": "display_data"
    },
    {
     "data": {
      "application/vnd.jupyter.widget-view+json": {
       "model_id": "",
       "version_major": 2,
       "version_minor": 0
      },
      "text/plain": [
       "Test:   0%|          | 0/79 [00:00<?, ?batch/s]"
      ]
     },
     "metadata": {},
     "output_type": "display_data"
    },
    {
     "name": "stdout",
     "output_type": "stream",
     "text": [
      "epoch:     5 | train loss: 0.080 | train accuracy: 98.7% | test loss: 0.115 | test accuracy: 98.6%\n"
     ]
    },
    {
     "data": {
      "application/vnd.jupyter.widget-view+json": {
       "model_id": "",
       "version_major": 2,
       "version_minor": 0
      },
      "text/plain": [
       "Train:   0%|          | 0/469 [00:00<?, ?batch/s]"
      ]
     },
     "metadata": {},
     "output_type": "display_data"
    },
    {
     "data": {
      "application/vnd.jupyter.widget-view+json": {
       "model_id": "",
       "version_major": 2,
       "version_minor": 0
      },
      "text/plain": [
       "Test:   0%|          | 0/79 [00:00<?, ?batch/s]"
      ]
     },
     "metadata": {},
     "output_type": "display_data"
    },
    {
     "name": "stdout",
     "output_type": "stream",
     "text": [
      "epoch:     6 | train loss: 0.072 | train accuracy: 98.9% | test loss: 0.080 | test accuracy: 99.0%\n"
     ]
    },
    {
     "data": {
      "application/vnd.jupyter.widget-view+json": {
       "model_id": "",
       "version_major": 2,
       "version_minor": 0
      },
      "text/plain": [
       "Train:   0%|          | 0/469 [00:00<?, ?batch/s]"
      ]
     },
     "metadata": {},
     "output_type": "display_data"
    },
    {
     "data": {
      "application/vnd.jupyter.widget-view+json": {
       "model_id": "",
       "version_major": 2,
       "version_minor": 0
      },
      "text/plain": [
       "Test:   0%|          | 0/79 [00:00<?, ?batch/s]"
      ]
     },
     "metadata": {},
     "output_type": "display_data"
    },
    {
     "name": "stdout",
     "output_type": "stream",
     "text": [
      "epoch:     7 | train loss: 0.064 | train accuracy: 99.1% | test loss: 0.085 | test accuracy: 99.0%\n"
     ]
    },
    {
     "data": {
      "application/vnd.jupyter.widget-view+json": {
       "model_id": "",
       "version_major": 2,
       "version_minor": 0
      },
      "text/plain": [
       "Train:   0%|          | 0/469 [00:00<?, ?batch/s]"
      ]
     },
     "metadata": {},
     "output_type": "display_data"
    },
    {
     "data": {
      "application/vnd.jupyter.widget-view+json": {
       "model_id": "",
       "version_major": 2,
       "version_minor": 0
      },
      "text/plain": [
       "Test:   0%|          | 0/79 [00:00<?, ?batch/s]"
      ]
     },
     "metadata": {},
     "output_type": "display_data"
    },
    {
     "name": "stdout",
     "output_type": "stream",
     "text": [
      "epoch:     8 | train loss: 0.061 | train accuracy: 99.2% | test loss: 0.105 | test accuracy: 99.0%\n"
     ]
    },
    {
     "data": {
      "application/vnd.jupyter.widget-view+json": {
       "model_id": "",
       "version_major": 2,
       "version_minor": 0
      },
      "text/plain": [
       "Train:   0%|          | 0/469 [00:00<?, ?batch/s]"
      ]
     },
     "metadata": {},
     "output_type": "display_data"
    },
    {
     "data": {
      "application/vnd.jupyter.widget-view+json": {
       "model_id": "",
       "version_major": 2,
       "version_minor": 0
      },
      "text/plain": [
       "Test:   0%|          | 0/79 [00:00<?, ?batch/s]"
      ]
     },
     "metadata": {},
     "output_type": "display_data"
    },
    {
     "name": "stdout",
     "output_type": "stream",
     "text": [
      "epoch:     9 | train loss: 0.057 | train accuracy: 99.3% | test loss: 0.067 | test accuracy: 99.2%\n"
     ]
    },
    {
     "data": {
      "application/vnd.jupyter.widget-view+json": {
       "model_id": "",
       "version_major": 2,
       "version_minor": 0
      },
      "text/plain": [
       "Train:   0%|          | 0/469 [00:00<?, ?batch/s]"
      ]
     },
     "metadata": {},
     "output_type": "display_data"
    },
    {
     "data": {
      "application/vnd.jupyter.widget-view+json": {
       "model_id": "",
       "version_major": 2,
       "version_minor": 0
      },
      "text/plain": [
       "Test:   0%|          | 0/79 [00:00<?, ?batch/s]"
      ]
     },
     "metadata": {},
     "output_type": "display_data"
    },
    {
     "name": "stdout",
     "output_type": "stream",
     "text": [
      "epoch:    10 | train loss: 0.056 | train accuracy: 99.3% | test loss: 0.058 | test accuracy: 99.2%\n"
     ]
    },
    {
     "data": {
      "application/vnd.jupyter.widget-view+json": {
       "model_id": "",
       "version_major": 2,
       "version_minor": 0
      },
      "text/plain": [
       "Train:   0%|          | 0/469 [00:00<?, ?batch/s]"
      ]
     },
     "metadata": {},
     "output_type": "display_data"
    },
    {
     "data": {
      "application/vnd.jupyter.widget-view+json": {
       "model_id": "",
       "version_major": 2,
       "version_minor": 0
      },
      "text/plain": [
       "Test:   0%|          | 0/79 [00:00<?, ?batch/s]"
      ]
     },
     "metadata": {},
     "output_type": "display_data"
    },
    {
     "name": "stdout",
     "output_type": "stream",
     "text": [
      "epoch:    11 | train loss: 0.054 | train accuracy: 99.3% | test loss: 0.076 | test accuracy: 98.8%\n"
     ]
    },
    {
     "data": {
      "application/vnd.jupyter.widget-view+json": {
       "model_id": "",
       "version_major": 2,
       "version_minor": 0
      },
      "text/plain": [
       "Train:   0%|          | 0/469 [00:00<?, ?batch/s]"
      ]
     },
     "metadata": {},
     "output_type": "display_data"
    },
    {
     "data": {
      "application/vnd.jupyter.widget-view+json": {
       "model_id": "",
       "version_major": 2,
       "version_minor": 0
      },
      "text/plain": [
       "Test:   0%|          | 0/79 [00:00<?, ?batch/s]"
      ]
     },
     "metadata": {},
     "output_type": "display_data"
    },
    {
     "name": "stdout",
     "output_type": "stream",
     "text": [
      "epoch:    12 | train loss: 0.052 | train accuracy: 99.4% | test loss: 0.084 | test accuracy: 98.9%\n"
     ]
    },
    {
     "data": {
      "application/vnd.jupyter.widget-view+json": {
       "model_id": "",
       "version_major": 2,
       "version_minor": 0
      },
      "text/plain": [
       "Train:   0%|          | 0/469 [00:00<?, ?batch/s]"
      ]
     },
     "metadata": {},
     "output_type": "display_data"
    },
    {
     "data": {
      "application/vnd.jupyter.widget-view+json": {
       "model_id": "",
       "version_major": 2,
       "version_minor": 0
      },
      "text/plain": [
       "Test:   0%|          | 0/79 [00:00<?, ?batch/s]"
      ]
     },
     "metadata": {},
     "output_type": "display_data"
    },
    {
     "name": "stdout",
     "output_type": "stream",
     "text": [
      "epoch:    13 | train loss: 0.052 | train accuracy: 99.4% | test loss: 0.051 | test accuracy: 99.3%\n"
     ]
    },
    {
     "data": {
      "application/vnd.jupyter.widget-view+json": {
       "model_id": "",
       "version_major": 2,
       "version_minor": 0
      },
      "text/plain": [
       "Train:   0%|          | 0/469 [00:00<?, ?batch/s]"
      ]
     },
     "metadata": {},
     "output_type": "display_data"
    },
    {
     "data": {
      "application/vnd.jupyter.widget-view+json": {
       "model_id": "",
       "version_major": 2,
       "version_minor": 0
      },
      "text/plain": [
       "Test:   0%|          | 0/79 [00:00<?, ?batch/s]"
      ]
     },
     "metadata": {},
     "output_type": "display_data"
    },
    {
     "name": "stdout",
     "output_type": "stream",
     "text": [
      "epoch:    14 | train loss: 0.052 | train accuracy: 99.4% | test loss: 0.061 | test accuracy: 99.3%\n"
     ]
    },
    {
     "data": {
      "application/vnd.jupyter.widget-view+json": {
       "model_id": "",
       "version_major": 2,
       "version_minor": 0
      },
      "text/plain": [
       "Train:   0%|          | 0/469 [00:00<?, ?batch/s]"
      ]
     },
     "metadata": {},
     "output_type": "display_data"
    },
    {
     "data": {
      "application/vnd.jupyter.widget-view+json": {
       "model_id": "",
       "version_major": 2,
       "version_minor": 0
      },
      "text/plain": [
       "Test:   0%|          | 0/79 [00:00<?, ?batch/s]"
      ]
     },
     "metadata": {},
     "output_type": "display_data"
    },
    {
     "name": "stdout",
     "output_type": "stream",
     "text": [
      "epoch:    15 | train loss: 0.052 | train accuracy: 99.4% | test loss: 0.055 | test accuracy: 99.3%\n"
     ]
    },
    {
     "data": {
      "application/vnd.jupyter.widget-view+json": {
       "model_id": "",
       "version_major": 2,
       "version_minor": 0
      },
      "text/plain": [
       "Train:   0%|          | 0/469 [00:00<?, ?batch/s]"
      ]
     },
     "metadata": {},
     "output_type": "display_data"
    },
    {
     "data": {
      "application/vnd.jupyter.widget-view+json": {
       "model_id": "",
       "version_major": 2,
       "version_minor": 0
      },
      "text/plain": [
       "Test:   0%|          | 0/79 [00:00<?, ?batch/s]"
      ]
     },
     "metadata": {},
     "output_type": "display_data"
    },
    {
     "name": "stdout",
     "output_type": "stream",
     "text": [
      "epoch:    16 | train loss: 0.050 | train accuracy: 99.4% | test loss: 0.064 | test accuracy: 99.0%\n"
     ]
    },
    {
     "data": {
      "application/vnd.jupyter.widget-view+json": {
       "model_id": "",
       "version_major": 2,
       "version_minor": 0
      },
      "text/plain": [
       "Train:   0%|          | 0/469 [00:00<?, ?batch/s]"
      ]
     },
     "metadata": {},
     "output_type": "display_data"
    },
    {
     "data": {
      "application/vnd.jupyter.widget-view+json": {
       "model_id": "",
       "version_major": 2,
       "version_minor": 0
      },
      "text/plain": [
       "Test:   0%|          | 0/79 [00:00<?, ?batch/s]"
      ]
     },
     "metadata": {},
     "output_type": "display_data"
    },
    {
     "name": "stdout",
     "output_type": "stream",
     "text": [
      "epoch:    17 | train loss: 0.049 | train accuracy: 99.4% | test loss: 0.070 | test accuracy: 99.0%\n"
     ]
    },
    {
     "data": {
      "application/vnd.jupyter.widget-view+json": {
       "model_id": "",
       "version_major": 2,
       "version_minor": 0
      },
      "text/plain": [
       "Train:   0%|          | 0/469 [00:00<?, ?batch/s]"
      ]
     },
     "metadata": {},
     "output_type": "display_data"
    },
    {
     "data": {
      "application/vnd.jupyter.widget-view+json": {
       "model_id": "",
       "version_major": 2,
       "version_minor": 0
      },
      "text/plain": [
       "Test:   0%|          | 0/79 [00:00<?, ?batch/s]"
      ]
     },
     "metadata": {},
     "output_type": "display_data"
    },
    {
     "name": "stdout",
     "output_type": "stream",
     "text": [
      "epoch:    18 | train loss: 0.048 | train accuracy: 99.5% | test loss: 0.065 | test accuracy: 99.1%\n"
     ]
    },
    {
     "data": {
      "application/vnd.jupyter.widget-view+json": {
       "model_id": "",
       "version_major": 2,
       "version_minor": 0
      },
      "text/plain": [
       "Train:   0%|          | 0/469 [00:00<?, ?batch/s]"
      ]
     },
     "metadata": {},
     "output_type": "display_data"
    },
    {
     "data": {
      "application/vnd.jupyter.widget-view+json": {
       "model_id": "",
       "version_major": 2,
       "version_minor": 0
      },
      "text/plain": [
       "Test:   0%|          | 0/79 [00:00<?, ?batch/s]"
      ]
     },
     "metadata": {},
     "output_type": "display_data"
    },
    {
     "name": "stdout",
     "output_type": "stream",
     "text": [
      "epoch:    19 | train loss: 0.048 | train accuracy: 99.4% | test loss: 0.058 | test accuracy: 99.2%\n"
     ]
    },
    {
     "data": {
      "application/vnd.jupyter.widget-view+json": {
       "model_id": "",
       "version_major": 2,
       "version_minor": 0
      },
      "text/plain": [
       "Train:   0%|          | 0/469 [00:00<?, ?batch/s]"
      ]
     },
     "metadata": {},
     "output_type": "display_data"
    },
    {
     "data": {
      "application/vnd.jupyter.widget-view+json": {
       "model_id": "",
       "version_major": 2,
       "version_minor": 0
      },
      "text/plain": [
       "Test:   0%|          | 0/79 [00:00<?, ?batch/s]"
      ]
     },
     "metadata": {},
     "output_type": "display_data"
    },
    {
     "name": "stdout",
     "output_type": "stream",
     "text": [
      "epoch:    20 | train loss: 0.046 | train accuracy: 99.5% | test loss: 0.045 | test accuracy: 99.5%\n"
     ]
    },
    {
     "data": {
      "application/vnd.jupyter.widget-view+json": {
       "model_id": "",
       "version_major": 2,
       "version_minor": 0
      },
      "text/plain": [
       "Train:   0%|          | 0/469 [00:00<?, ?batch/s]"
      ]
     },
     "metadata": {},
     "output_type": "display_data"
    },
    {
     "data": {
      "application/vnd.jupyter.widget-view+json": {
       "model_id": "",
       "version_major": 2,
       "version_minor": 0
      },
      "text/plain": [
       "Test:   0%|          | 0/79 [00:00<?, ?batch/s]"
      ]
     },
     "metadata": {},
     "output_type": "display_data"
    },
    {
     "name": "stdout",
     "output_type": "stream",
     "text": [
      "epoch:    21 | train loss: 0.044 | train accuracy: 99.6% | test loss: 0.066 | test accuracy: 99.1%\n"
     ]
    },
    {
     "data": {
      "application/vnd.jupyter.widget-view+json": {
       "model_id": "",
       "version_major": 2,
       "version_minor": 0
      },
      "text/plain": [
       "Train:   0%|          | 0/469 [00:00<?, ?batch/s]"
      ]
     },
     "metadata": {},
     "output_type": "display_data"
    },
    {
     "data": {
      "application/vnd.jupyter.widget-view+json": {
       "model_id": "",
       "version_major": 2,
       "version_minor": 0
      },
      "text/plain": [
       "Test:   0%|          | 0/79 [00:00<?, ?batch/s]"
      ]
     },
     "metadata": {},
     "output_type": "display_data"
    },
    {
     "name": "stdout",
     "output_type": "stream",
     "text": [
      "epoch:    22 | train loss: 0.045 | train accuracy: 99.5% | test loss: 0.065 | test accuracy: 98.9%\n"
     ]
    },
    {
     "data": {
      "application/vnd.jupyter.widget-view+json": {
       "model_id": "",
       "version_major": 2,
       "version_minor": 0
      },
      "text/plain": [
       "Train:   0%|          | 0/469 [00:00<?, ?batch/s]"
      ]
     },
     "metadata": {},
     "output_type": "display_data"
    },
    {
     "data": {
      "application/vnd.jupyter.widget-view+json": {
       "model_id": "",
       "version_major": 2,
       "version_minor": 0
      },
      "text/plain": [
       "Test:   0%|          | 0/79 [00:00<?, ?batch/s]"
      ]
     },
     "metadata": {},
     "output_type": "display_data"
    },
    {
     "name": "stdout",
     "output_type": "stream",
     "text": [
      "epoch:    23 | train loss: 0.044 | train accuracy: 99.5% | test loss: 0.053 | test accuracy: 99.3%\n"
     ]
    },
    {
     "data": {
      "application/vnd.jupyter.widget-view+json": {
       "model_id": "",
       "version_major": 2,
       "version_minor": 0
      },
      "text/plain": [
       "Train:   0%|          | 0/469 [00:00<?, ?batch/s]"
      ]
     },
     "metadata": {},
     "output_type": "display_data"
    },
    {
     "data": {
      "application/vnd.jupyter.widget-view+json": {
       "model_id": "",
       "version_major": 2,
       "version_minor": 0
      },
      "text/plain": [
       "Test:   0%|          | 0/79 [00:00<?, ?batch/s]"
      ]
     },
     "metadata": {},
     "output_type": "display_data"
    },
    {
     "name": "stdout",
     "output_type": "stream",
     "text": [
      "epoch:    24 | train loss: 0.044 | train accuracy: 99.5% | test loss: 0.055 | test accuracy: 99.3%\n"
     ]
    },
    {
     "data": {
      "application/vnd.jupyter.widget-view+json": {
       "model_id": "",
       "version_major": 2,
       "version_minor": 0
      },
      "text/plain": [
       "Train:   0%|          | 0/469 [00:00<?, ?batch/s]"
      ]
     },
     "metadata": {},
     "output_type": "display_data"
    },
    {
     "data": {
      "application/vnd.jupyter.widget-view+json": {
       "model_id": "",
       "version_major": 2,
       "version_minor": 0
      },
      "text/plain": [
       "Test:   0%|          | 0/79 [00:00<?, ?batch/s]"
      ]
     },
     "metadata": {},
     "output_type": "display_data"
    },
    {
     "name": "stdout",
     "output_type": "stream",
     "text": [
      "epoch:    25 | train loss: 0.044 | train accuracy: 99.5% | test loss: 0.054 | test accuracy: 99.2%\n"
     ]
    },
    {
     "data": {
      "application/vnd.jupyter.widget-view+json": {
       "model_id": "",
       "version_major": 2,
       "version_minor": 0
      },
      "text/plain": [
       "Train:   0%|          | 0/469 [00:00<?, ?batch/s]"
      ]
     },
     "metadata": {},
     "output_type": "display_data"
    },
    {
     "data": {
      "application/vnd.jupyter.widget-view+json": {
       "model_id": "",
       "version_major": 2,
       "version_minor": 0
      },
      "text/plain": [
       "Test:   0%|          | 0/79 [00:00<?, ?batch/s]"
      ]
     },
     "metadata": {},
     "output_type": "display_data"
    },
    {
     "name": "stdout",
     "output_type": "stream",
     "text": [
      "epoch:    26 | train loss: 0.045 | train accuracy: 99.5% | test loss: 0.054 | test accuracy: 99.3%\n"
     ]
    },
    {
     "data": {
      "application/vnd.jupyter.widget-view+json": {
       "model_id": "",
       "version_major": 2,
       "version_minor": 0
      },
      "text/plain": [
       "Train:   0%|          | 0/469 [00:00<?, ?batch/s]"
      ]
     },
     "metadata": {},
     "output_type": "display_data"
    },
    {
     "data": {
      "application/vnd.jupyter.widget-view+json": {
       "model_id": "",
       "version_major": 2,
       "version_minor": 0
      },
      "text/plain": [
       "Test:   0%|          | 0/79 [00:00<?, ?batch/s]"
      ]
     },
     "metadata": {},
     "output_type": "display_data"
    },
    {
     "name": "stdout",
     "output_type": "stream",
     "text": [
      "epoch:    27 | train loss: 0.043 | train accuracy: 99.6% | test loss: 0.046 | test accuracy: 99.2%\n"
     ]
    },
    {
     "data": {
      "application/vnd.jupyter.widget-view+json": {
       "model_id": "",
       "version_major": 2,
       "version_minor": 0
      },
      "text/plain": [
       "Train:   0%|          | 0/469 [00:00<?, ?batch/s]"
      ]
     },
     "metadata": {},
     "output_type": "display_data"
    },
    {
     "data": {
      "application/vnd.jupyter.widget-view+json": {
       "model_id": "",
       "version_major": 2,
       "version_minor": 0
      },
      "text/plain": [
       "Test:   0%|          | 0/79 [00:00<?, ?batch/s]"
      ]
     },
     "metadata": {},
     "output_type": "display_data"
    },
    {
     "name": "stdout",
     "output_type": "stream",
     "text": [
      "epoch:    28 | train loss: 0.044 | train accuracy: 99.5% | test loss: 0.049 | test accuracy: 99.3%\n"
     ]
    },
    {
     "data": {
      "application/vnd.jupyter.widget-view+json": {
       "model_id": "",
       "version_major": 2,
       "version_minor": 0
      },
      "text/plain": [
       "Train:   0%|          | 0/469 [00:00<?, ?batch/s]"
      ]
     },
     "metadata": {},
     "output_type": "display_data"
    },
    {
     "data": {
      "application/vnd.jupyter.widget-view+json": {
       "model_id": "",
       "version_major": 2,
       "version_minor": 0
      },
      "text/plain": [
       "Test:   0%|          | 0/79 [00:00<?, ?batch/s]"
      ]
     },
     "metadata": {},
     "output_type": "display_data"
    },
    {
     "name": "stdout",
     "output_type": "stream",
     "text": [
      "epoch:    29 | train loss: 0.042 | train accuracy: 99.6% | test loss: 0.049 | test accuracy: 99.4%\n"
     ]
    },
    {
     "data": {
      "application/vnd.jupyter.widget-view+json": {
       "model_id": "",
       "version_major": 2,
       "version_minor": 0
      },
      "text/plain": [
       "Train:   0%|          | 0/469 [00:00<?, ?batch/s]"
      ]
     },
     "metadata": {},
     "output_type": "display_data"
    },
    {
     "data": {
      "application/vnd.jupyter.widget-view+json": {
       "model_id": "",
       "version_major": 2,
       "version_minor": 0
      },
      "text/plain": [
       "Test:   0%|          | 0/79 [00:00<?, ?batch/s]"
      ]
     },
     "metadata": {},
     "output_type": "display_data"
    },
    {
     "name": "stdout",
     "output_type": "stream",
     "text": [
      "epoch:    30 | train loss: 0.042 | train accuracy: 99.6% | test loss: 0.057 | test accuracy: 99.2%\n"
     ]
    },
    {
     "data": {
      "application/vnd.jupyter.widget-view+json": {
       "model_id": "",
       "version_major": 2,
       "version_minor": 0
      },
      "text/plain": [
       "Train:   0%|          | 0/469 [00:00<?, ?batch/s]"
      ]
     },
     "metadata": {},
     "output_type": "display_data"
    },
    {
     "data": {
      "application/vnd.jupyter.widget-view+json": {
       "model_id": "",
       "version_major": 2,
       "version_minor": 0
      },
      "text/plain": [
       "Test:   0%|          | 0/79 [00:00<?, ?batch/s]"
      ]
     },
     "metadata": {},
     "output_type": "display_data"
    },
    {
     "name": "stdout",
     "output_type": "stream",
     "text": [
      "epoch:    31 | train loss: 0.041 | train accuracy: 99.6% | test loss: 0.043 | test accuracy: 99.4%\n"
     ]
    },
    {
     "data": {
      "application/vnd.jupyter.widget-view+json": {
       "model_id": "",
       "version_major": 2,
       "version_minor": 0
      },
      "text/plain": [
       "Train:   0%|          | 0/469 [00:00<?, ?batch/s]"
      ]
     },
     "metadata": {},
     "output_type": "display_data"
    },
    {
     "data": {
      "application/vnd.jupyter.widget-view+json": {
       "model_id": "",
       "version_major": 2,
       "version_minor": 0
      },
      "text/plain": [
       "Test:   0%|          | 0/79 [00:00<?, ?batch/s]"
      ]
     },
     "metadata": {},
     "output_type": "display_data"
    },
    {
     "name": "stdout",
     "output_type": "stream",
     "text": [
      "epoch:    32 | train loss: 0.042 | train accuracy: 99.6% | test loss: 0.057 | test accuracy: 99.1%\n"
     ]
    },
    {
     "data": {
      "application/vnd.jupyter.widget-view+json": {
       "model_id": "",
       "version_major": 2,
       "version_minor": 0
      },
      "text/plain": [
       "Train:   0%|          | 0/469 [00:00<?, ?batch/s]"
      ]
     },
     "metadata": {},
     "output_type": "display_data"
    },
    {
     "data": {
      "application/vnd.jupyter.widget-view+json": {
       "model_id": "",
       "version_major": 2,
       "version_minor": 0
      },
      "text/plain": [
       "Test:   0%|          | 0/79 [00:00<?, ?batch/s]"
      ]
     },
     "metadata": {},
     "output_type": "display_data"
    },
    {
     "name": "stdout",
     "output_type": "stream",
     "text": [
      "epoch:    33 | train loss: 0.041 | train accuracy: 99.6% | test loss: 0.050 | test accuracy: 99.3%\n"
     ]
    },
    {
     "data": {
      "application/vnd.jupyter.widget-view+json": {
       "model_id": "",
       "version_major": 2,
       "version_minor": 0
      },
      "text/plain": [
       "Train:   0%|          | 0/469 [00:00<?, ?batch/s]"
      ]
     },
     "metadata": {},
     "output_type": "display_data"
    },
    {
     "data": {
      "application/vnd.jupyter.widget-view+json": {
       "model_id": "",
       "version_major": 2,
       "version_minor": 0
      },
      "text/plain": [
       "Test:   0%|          | 0/79 [00:00<?, ?batch/s]"
      ]
     },
     "metadata": {},
     "output_type": "display_data"
    },
    {
     "name": "stdout",
     "output_type": "stream",
     "text": [
      "epoch:    34 | train loss: 0.041 | train accuracy: 99.6% | test loss: 0.052 | test accuracy: 99.3%\n"
     ]
    },
    {
     "data": {
      "application/vnd.jupyter.widget-view+json": {
       "model_id": "",
       "version_major": 2,
       "version_minor": 0
      },
      "text/plain": [
       "Train:   0%|          | 0/469 [00:00<?, ?batch/s]"
      ]
     },
     "metadata": {},
     "output_type": "display_data"
    },
    {
     "data": {
      "application/vnd.jupyter.widget-view+json": {
       "model_id": "",
       "version_major": 2,
       "version_minor": 0
      },
      "text/plain": [
       "Test:   0%|          | 0/79 [00:00<?, ?batch/s]"
      ]
     },
     "metadata": {},
     "output_type": "display_data"
    },
    {
     "name": "stdout",
     "output_type": "stream",
     "text": [
      "epoch:    35 | train loss: 0.041 | train accuracy: 99.6% | test loss: 0.063 | test accuracy: 99.1%\n"
     ]
    },
    {
     "data": {
      "application/vnd.jupyter.widget-view+json": {
       "model_id": "",
       "version_major": 2,
       "version_minor": 0
      },
      "text/plain": [
       "Train:   0%|          | 0/469 [00:00<?, ?batch/s]"
      ]
     },
     "metadata": {},
     "output_type": "display_data"
    },
    {
     "data": {
      "application/vnd.jupyter.widget-view+json": {
       "model_id": "",
       "version_major": 2,
       "version_minor": 0
      },
      "text/plain": [
       "Test:   0%|          | 0/79 [00:00<?, ?batch/s]"
      ]
     },
     "metadata": {},
     "output_type": "display_data"
    },
    {
     "name": "stdout",
     "output_type": "stream",
     "text": [
      "epoch:    36 | train loss: 0.043 | train accuracy: 99.6% | test loss: 0.063 | test accuracy: 99.3%\n"
     ]
    },
    {
     "data": {
      "application/vnd.jupyter.widget-view+json": {
       "model_id": "",
       "version_major": 2,
       "version_minor": 0
      },
      "text/plain": [
       "Train:   0%|          | 0/469 [00:00<?, ?batch/s]"
      ]
     },
     "metadata": {},
     "output_type": "display_data"
    },
    {
     "data": {
      "application/vnd.jupyter.widget-view+json": {
       "model_id": "",
       "version_major": 2,
       "version_minor": 0
      },
      "text/plain": [
       "Test:   0%|          | 0/79 [00:00<?, ?batch/s]"
      ]
     },
     "metadata": {},
     "output_type": "display_data"
    },
    {
     "name": "stdout",
     "output_type": "stream",
     "text": [
      "epoch:    37 | train loss: 0.042 | train accuracy: 99.6% | test loss: 0.066 | test accuracy: 99.1%\n"
     ]
    },
    {
     "data": {
      "application/vnd.jupyter.widget-view+json": {
       "model_id": "",
       "version_major": 2,
       "version_minor": 0
      },
      "text/plain": [
       "Train:   0%|          | 0/469 [00:00<?, ?batch/s]"
      ]
     },
     "metadata": {},
     "output_type": "display_data"
    },
    {
     "data": {
      "application/vnd.jupyter.widget-view+json": {
       "model_id": "",
       "version_major": 2,
       "version_minor": 0
      },
      "text/plain": [
       "Test:   0%|          | 0/79 [00:00<?, ?batch/s]"
      ]
     },
     "metadata": {},
     "output_type": "display_data"
    },
    {
     "name": "stdout",
     "output_type": "stream",
     "text": [
      "epoch:    38 | train loss: 0.041 | train accuracy: 99.6% | test loss: 0.052 | test accuracy: 99.3%\n"
     ]
    },
    {
     "data": {
      "application/vnd.jupyter.widget-view+json": {
       "model_id": "",
       "version_major": 2,
       "version_minor": 0
      },
      "text/plain": [
       "Train:   0%|          | 0/469 [00:00<?, ?batch/s]"
      ]
     },
     "metadata": {},
     "output_type": "display_data"
    },
    {
     "data": {
      "application/vnd.jupyter.widget-view+json": {
       "model_id": "",
       "version_major": 2,
       "version_minor": 0
      },
      "text/plain": [
       "Test:   0%|          | 0/79 [00:00<?, ?batch/s]"
      ]
     },
     "metadata": {},
     "output_type": "display_data"
    },
    {
     "name": "stdout",
     "output_type": "stream",
     "text": [
      "epoch:    39 | train loss: 0.041 | train accuracy: 99.6% | test loss: 0.059 | test accuracy: 99.2%\n"
     ]
    },
    {
     "data": {
      "application/vnd.jupyter.widget-view+json": {
       "model_id": "",
       "version_major": 2,
       "version_minor": 0
      },
      "text/plain": [
       "Train:   0%|          | 0/469 [00:00<?, ?batch/s]"
      ]
     },
     "metadata": {},
     "output_type": "display_data"
    },
    {
     "data": {
      "application/vnd.jupyter.widget-view+json": {
       "model_id": "",
       "version_major": 2,
       "version_minor": 0
      },
      "text/plain": [
       "Test:   0%|          | 0/79 [00:00<?, ?batch/s]"
      ]
     },
     "metadata": {},
     "output_type": "display_data"
    },
    {
     "name": "stdout",
     "output_type": "stream",
     "text": [
      "epoch:    40 | train loss: 0.043 | train accuracy: 99.6% | test loss: 0.052 | test accuracy: 99.3%\n"
     ]
    },
    {
     "data": {
      "application/vnd.jupyter.widget-view+json": {
       "model_id": "",
       "version_major": 2,
       "version_minor": 0
      },
      "text/plain": [
       "Train:   0%|          | 0/469 [00:00<?, ?batch/s]"
      ]
     },
     "metadata": {},
     "output_type": "display_data"
    },
    {
     "data": {
      "application/vnd.jupyter.widget-view+json": {
       "model_id": "",
       "version_major": 2,
       "version_minor": 0
      },
      "text/plain": [
       "Test:   0%|          | 0/79 [00:00<?, ?batch/s]"
      ]
     },
     "metadata": {},
     "output_type": "display_data"
    },
    {
     "name": "stdout",
     "output_type": "stream",
     "text": [
      "epoch:    41 | train loss: 0.041 | train accuracy: 99.6% | test loss: 0.050 | test accuracy: 99.4%\n"
     ]
    },
    {
     "data": {
      "application/vnd.jupyter.widget-view+json": {
       "model_id": "",
       "version_major": 2,
       "version_minor": 0
      },
      "text/plain": [
       "Train:   0%|          | 0/469 [00:00<?, ?batch/s]"
      ]
     },
     "metadata": {},
     "output_type": "display_data"
    },
    {
     "data": {
      "application/vnd.jupyter.widget-view+json": {
       "model_id": "",
       "version_major": 2,
       "version_minor": 0
      },
      "text/plain": [
       "Test:   0%|          | 0/79 [00:00<?, ?batch/s]"
      ]
     },
     "metadata": {},
     "output_type": "display_data"
    },
    {
     "name": "stdout",
     "output_type": "stream",
     "text": [
      "epoch:    42 | train loss: 0.040 | train accuracy: 99.6% | test loss: 0.068 | test accuracy: 99.3%\n"
     ]
    },
    {
     "data": {
      "application/vnd.jupyter.widget-view+json": {
       "model_id": "",
       "version_major": 2,
       "version_minor": 0
      },
      "text/plain": [
       "Train:   0%|          | 0/469 [00:00<?, ?batch/s]"
      ]
     },
     "metadata": {},
     "output_type": "display_data"
    },
    {
     "data": {
      "application/vnd.jupyter.widget-view+json": {
       "model_id": "",
       "version_major": 2,
       "version_minor": 0
      },
      "text/plain": [
       "Test:   0%|          | 0/79 [00:00<?, ?batch/s]"
      ]
     },
     "metadata": {},
     "output_type": "display_data"
    },
    {
     "name": "stdout",
     "output_type": "stream",
     "text": [
      "epoch:    43 | train loss: 0.042 | train accuracy: 99.6% | test loss: 0.056 | test accuracy: 99.2%\n"
     ]
    },
    {
     "data": {
      "application/vnd.jupyter.widget-view+json": {
       "model_id": "",
       "version_major": 2,
       "version_minor": 0
      },
      "text/plain": [
       "Train:   0%|          | 0/469 [00:00<?, ?batch/s]"
      ]
     },
     "metadata": {},
     "output_type": "display_data"
    },
    {
     "data": {
      "application/vnd.jupyter.widget-view+json": {
       "model_id": "",
       "version_major": 2,
       "version_minor": 0
      },
      "text/plain": [
       "Test:   0%|          | 0/79 [00:00<?, ?batch/s]"
      ]
     },
     "metadata": {},
     "output_type": "display_data"
    },
    {
     "name": "stdout",
     "output_type": "stream",
     "text": [
      "epoch:    44 | train loss: 0.041 | train accuracy: 99.6% | test loss: 0.069 | test accuracy: 99.0%\n"
     ]
    },
    {
     "data": {
      "application/vnd.jupyter.widget-view+json": {
       "model_id": "",
       "version_major": 2,
       "version_minor": 0
      },
      "text/plain": [
       "Train:   0%|          | 0/469 [00:00<?, ?batch/s]"
      ]
     },
     "metadata": {},
     "output_type": "display_data"
    },
    {
     "data": {
      "application/vnd.jupyter.widget-view+json": {
       "model_id": "",
       "version_major": 2,
       "version_minor": 0
      },
      "text/plain": [
       "Test:   0%|          | 0/79 [00:00<?, ?batch/s]"
      ]
     },
     "metadata": {},
     "output_type": "display_data"
    },
    {
     "name": "stdout",
     "output_type": "stream",
     "text": [
      "epoch:    45 | train loss: 0.043 | train accuracy: 99.5% | test loss: 0.051 | test accuracy: 99.2%\n"
     ]
    },
    {
     "data": {
      "application/vnd.jupyter.widget-view+json": {
       "model_id": "",
       "version_major": 2,
       "version_minor": 0
      },
      "text/plain": [
       "Train:   0%|          | 0/469 [00:00<?, ?batch/s]"
      ]
     },
     "metadata": {},
     "output_type": "display_data"
    },
    {
     "data": {
      "application/vnd.jupyter.widget-view+json": {
       "model_id": "",
       "version_major": 2,
       "version_minor": 0
      },
      "text/plain": [
       "Test:   0%|          | 0/79 [00:00<?, ?batch/s]"
      ]
     },
     "metadata": {},
     "output_type": "display_data"
    },
    {
     "name": "stdout",
     "output_type": "stream",
     "text": [
      "epoch:    46 | train loss: 0.041 | train accuracy: 99.6% | test loss: 0.062 | test accuracy: 99.0%\n"
     ]
    },
    {
     "data": {
      "application/vnd.jupyter.widget-view+json": {
       "model_id": "",
       "version_major": 2,
       "version_minor": 0
      },
      "text/plain": [
       "Train:   0%|          | 0/469 [00:00<?, ?batch/s]"
      ]
     },
     "metadata": {},
     "output_type": "display_data"
    },
    {
     "data": {
      "application/vnd.jupyter.widget-view+json": {
       "model_id": "",
       "version_major": 2,
       "version_minor": 0
      },
      "text/plain": [
       "Test:   0%|          | 0/79 [00:00<?, ?batch/s]"
      ]
     },
     "metadata": {},
     "output_type": "display_data"
    },
    {
     "name": "stdout",
     "output_type": "stream",
     "text": [
      "epoch:    47 | train loss: 0.045 | train accuracy: 99.5% | test loss: 0.057 | test accuracy: 99.1%\n"
     ]
    },
    {
     "data": {
      "application/vnd.jupyter.widget-view+json": {
       "model_id": "",
       "version_major": 2,
       "version_minor": 0
      },
      "text/plain": [
       "Train:   0%|          | 0/469 [00:00<?, ?batch/s]"
      ]
     },
     "metadata": {},
     "output_type": "display_data"
    },
    {
     "data": {
      "application/vnd.jupyter.widget-view+json": {
       "model_id": "",
       "version_major": 2,
       "version_minor": 0
      },
      "text/plain": [
       "Test:   0%|          | 0/79 [00:00<?, ?batch/s]"
      ]
     },
     "metadata": {},
     "output_type": "display_data"
    },
    {
     "name": "stdout",
     "output_type": "stream",
     "text": [
      "epoch:    48 | train loss: 0.044 | train accuracy: 99.4% | test loss: 0.059 | test accuracy: 99.0%\n"
     ]
    },
    {
     "data": {
      "application/vnd.jupyter.widget-view+json": {
       "model_id": "",
       "version_major": 2,
       "version_minor": 0
      },
      "text/plain": [
       "Train:   0%|          | 0/469 [00:00<?, ?batch/s]"
      ]
     },
     "metadata": {},
     "output_type": "display_data"
    },
    {
     "data": {
      "application/vnd.jupyter.widget-view+json": {
       "model_id": "",
       "version_major": 2,
       "version_minor": 0
      },
      "text/plain": [
       "Test:   0%|          | 0/79 [00:00<?, ?batch/s]"
      ]
     },
     "metadata": {},
     "output_type": "display_data"
    },
    {
     "name": "stdout",
     "output_type": "stream",
     "text": [
      "epoch:    49 | train loss: 0.043 | train accuracy: 99.4% | test loss: 0.079 | test accuracy: 98.6%\n"
     ]
    },
    {
     "data": {
      "application/vnd.jupyter.widget-view+json": {
       "model_id": "",
       "version_major": 2,
       "version_minor": 0
      },
      "text/plain": [
       "Train:   0%|          | 0/469 [00:00<?, ?batch/s]"
      ]
     },
     "metadata": {},
     "output_type": "display_data"
    },
    {
     "data": {
      "application/vnd.jupyter.widget-view+json": {
       "model_id": "",
       "version_major": 2,
       "version_minor": 0
      },
      "text/plain": [
       "Test:   0%|          | 0/79 [00:00<?, ?batch/s]"
      ]
     },
     "metadata": {},
     "output_type": "display_data"
    },
    {
     "name": "stdout",
     "output_type": "stream",
     "text": [
      "epoch:    50 | train loss: 0.042 | train accuracy: 99.5% | test loss: 0.048 | test accuracy: 99.4%\n"
     ]
    }
   ],
   "source": [
    "import math\n",
    "\n",
    "from torch import nn\n",
    "from torch.utils.tensorboard import SummaryWriter\n",
    "\n",
    "from train import train_test_loop\n",
    "\n",
    "epochs = 50\n",
    "name = \"simpnet_slim_310k\"\n",
    "\n",
    "runs_dir = Path(\"runs\")\n",
    "models_dir = Path(\"models\")\n",
    "\n",
    "torch.manual_seed(SEED)\n",
    "\n",
    "simpnet_slim = SimpnetSlim310K(1, len(classes))\n",
    "loss_fn = nn.CrossEntropyLoss()\n",
    "optimizer = simpnet_slim.get_optimizer(\n",
    "    torch.optim.RMSprop,\n",
    "    momentum=0.9,\n",
    "    eps=math.sqrt(0.001),\n",
    "    lr=0.0000195,\n",
    "    weight_decay=0.0981\n",
    ")\n",
    "\n",
    "train_test_loop(\n",
    "    simpnet_slim,\n",
    "    train_dataloader,\n",
    "    test_dataloader,\n",
    "    loss_fn,\n",
    "    optimizer,\n",
    "    epochs=epochs,\n",
    "    writer=SummaryWriter(runs_dir / name),\n",
    "    save_to=models_dir / f\"{name}.pt\"\n",
    ")"
   ]
  },
  {
   "cell_type": "markdown",
   "id": "543680b7-2e8d-4095-b157-8a3f665f75cf",
   "metadata": {},
   "source": [
    "Predict\n",
    "==="
   ]
  },
  {
   "cell_type": "markdown",
   "id": "d069fa30-1b89-49f2-9a30-97b05e47d222",
   "metadata": {},
   "source": [
    "Load the Best Model\n",
    "---\n",
    "\n",
    "The best performing model, i.e., the model with highest accuracy is saved to the `models` directory during training."
   ]
  },
  {
   "cell_type": "code",
   "execution_count": 17,
   "id": "5172ba15-a637-47d7-b8da-bb2ece869484",
   "metadata": {},
   "outputs": [
    {
     "data": {
      "text/plain": [
       "<All keys matched successfully>"
      ]
     },
     "execution_count": 17,
     "metadata": {},
     "output_type": "execute_result"
    }
   ],
   "source": [
    "import torch\n",
    "\n",
    "from simpnet import SimpnetSlim310K\n",
    "\n",
    "simpnet_slim = SimpnetSlim310K(1, len(classes))\n",
    "simpnet_slim.load_state_dict(torch.load(models_dir / f\"{name}.pt\"))"
   ]
  },
  {
   "cell_type": "markdown",
   "id": "cc61523d-2f51-4c5c-ac1c-b1525a91ae76",
   "metadata": {},
   "source": [
    "Predict on MNIST\n",
    "---"
   ]
  },
  {
   "cell_type": "code",
   "execution_count": 18,
   "id": "8c23e5dc-76da-408e-92a6-0e9a24df43e1",
   "metadata": {},
   "outputs": [
    {
     "data": {
      "image/png": "[encoded data removed]",
      "text/plain": [
       "<Figure size 640x480 with 1 Axes>"
      ]
     },
     "metadata": {},
     "output_type": "display_data"
    }
   ],
   "source": [
    "from typing import List, Optional\n",
    "\n",
    "from PIL import Image\n",
    "from torch import nn\n",
    "from torchvision.transforms import Resize, Grayscale\n",
    "\n",
    "def plot_predict(model: nn.Module,\n",
    "                 image,\n",
    "                 classes: list,\n",
    "                 *,\n",
    "                 ax: Optional[plt.Axes] = None,\n",
    "                 device=device):\n",
    "    \"\"\"\n",
    "    Predict an image using a given model and plot them.\n",
    "    \"\"\"\n",
    "    transform = Compose([\n",
    "        Resize((32, 32)),\n",
    "        ToTensor(),\n",
    "        Grayscale()\n",
    "    ])\n",
    "    if not isinstance(image, torch.Tensor):\n",
    "        image = transform(image)\n",
    "    if ax is None:\n",
    "        ax = plt.subplot()\n",
    "\n",
    "    model.to(device)\n",
    "    model.eval()\n",
    "    with torch.inference_mode():\n",
    "        logits = model(image.unsqueeze(0).to(device))\n",
    "        probs = torch.softmax(logits, dim=1)\n",
    "        class_ = classes[torch.argmax(probs, dim=1)]\n",
    "\n",
    "    ax.imshow(image.permute(1, 2, 0), cmap=\"gray\")\n",
    "    ax.set_title(f\"predict: {class_}\")\n",
    "    ax.axis(False)\n",
    "\n",
    "    return probs, class_\n",
    "\n",
    "random.seed(SEED)\n",
    "idx = random.randrange(len(test_dataset))\n",
    "image = test_dataset[idx][0]\n",
    "probs, class_ = plot_predict(simpnet_slim, image, classes)\n",
    "plt.show()"
   ]
  },
  {
   "cell_type": "code",
   "execution_count": 19,
   "id": "c272fe08-5e0e-4502-9f58-d254f8efa1e7",
   "metadata": {},
   "outputs": [
    {
     "data": {
      "application/vnd.jupyter.widget-view+json": {
       "model_id": "d2c34889396b4cc2b85213f1aeed0c0b",
       "version_major": 2,
       "version_minor": 0
      },
      "text/plain": [
       "Predict:   0%|          | 0/10000 [00:00<?, ?sample/s]"
      ]
     },
     "metadata": {},
     "output_type": "display_data"
    },
    {
     "data": {
      "text/html": [
       "<div>\n",
       "<style scoped>\n",
       "    .dataframe tbody tr th:only-of-type {\n",
       "        vertical-align: middle;\n",
       "    }\n",
       "\n",
       "    .dataframe tbody tr th {\n",
       "        vertical-align: top;\n",
       "    }\n",
       "\n",
       "    .dataframe thead th {\n",
       "        text-align: right;\n",
       "    }\n",
       "</style>\n",
       "<table border=\"1\" class=\"dataframe\">\n",
       "  <thead>\n",
       "    <tr style=\"text-align: right;\">\n",
       "      <th></th>\n",
       "      <th>prediction</th>\n",
       "      <th>predict_probability</th>\n",
       "      <th>label</th>\n",
       "      <th>label_probability</th>\n",
       "    </tr>\n",
       "  </thead>\n",
       "  <tbody>\n",
       "    <tr>\n",
       "      <th>0</th>\n",
       "      <td>7 - seven</td>\n",
       "      <td>0.974308</td>\n",
       "      <td>7 - seven</td>\n",
       "      <td>0.974308</td>\n",
       "    </tr>\n",
       "    <tr>\n",
       "      <th>1</th>\n",
       "      <td>2 - two</td>\n",
       "      <td>0.978978</td>\n",
       "      <td>2 - two</td>\n",
       "      <td>0.978978</td>\n",
       "    </tr>\n",
       "    <tr>\n",
       "      <th>2</th>\n",
       "      <td>1 - one</td>\n",
       "      <td>0.979322</td>\n",
       "      <td>1 - one</td>\n",
       "      <td>0.979322</td>\n",
       "    </tr>\n",
       "    <tr>\n",
       "      <th>3</th>\n",
       "      <td>0 - zero</td>\n",
       "      <td>0.980508</td>\n",
       "      <td>0 - zero</td>\n",
       "      <td>0.980508</td>\n",
       "    </tr>\n",
       "    <tr>\n",
       "      <th>4</th>\n",
       "      <td>4 - four</td>\n",
       "      <td>0.972875</td>\n",
       "      <td>4 - four</td>\n",
       "      <td>0.972875</td>\n",
       "    </tr>\n",
       "    <tr>\n",
       "      <th>...</th>\n",
       "      <td>...</td>\n",
       "      <td>...</td>\n",
       "      <td>...</td>\n",
       "      <td>...</td>\n",
       "    </tr>\n",
       "    <tr>\n",
       "      <th>9995</th>\n",
       "      <td>2 - two</td>\n",
       "      <td>0.987566</td>\n",
       "      <td>2 - two</td>\n",
       "      <td>0.987566</td>\n",
       "    </tr>\n",
       "    <tr>\n",
       "      <th>9996</th>\n",
       "      <td>3 - three</td>\n",
       "      <td>0.986039</td>\n",
       "      <td>3 - three</td>\n",
       "      <td>0.986039</td>\n",
       "    </tr>\n",
       "    <tr>\n",
       "      <th>9997</th>\n",
       "      <td>4 - four</td>\n",
       "      <td>0.977050</td>\n",
       "      <td>4 - four</td>\n",
       "      <td>0.977050</td>\n",
       "    </tr>\n",
       "    <tr>\n",
       "      <th>9998</th>\n",
       "      <td>5 - five</td>\n",
       "      <td>0.979935</td>\n",
       "      <td>5 - five</td>\n",
       "      <td>0.979935</td>\n",
       "    </tr>\n",
       "    <tr>\n",
       "      <th>9999</th>\n",
       "      <td>6 - six</td>\n",
       "      <td>0.979824</td>\n",
       "      <td>6 - six</td>\n",
       "      <td>0.979824</td>\n",
       "    </tr>\n",
       "  </tbody>\n",
       "</table>\n",
       "<p>10000 rows × 4 columns</p>\n",
       "</div>"
      ],
      "text/plain": [
       "     prediction  predict_probability      label  label_probability\n",
       "0     7 - seven             0.974308  7 - seven           0.974308\n",
       "1       2 - two             0.978978    2 - two           0.978978\n",
       "2       1 - one             0.979322    1 - one           0.979322\n",
       "3      0 - zero             0.980508   0 - zero           0.980508\n",
       "4      4 - four             0.972875   4 - four           0.972875\n",
       "...         ...                  ...        ...                ...\n",
       "9995    2 - two             0.987566    2 - two           0.987566\n",
       "9996  3 - three             0.986039  3 - three           0.986039\n",
       "9997   4 - four             0.977050   4 - four           0.977050\n",
       "9998   5 - five             0.979935   5 - five           0.979935\n",
       "9999    6 - six             0.979824    6 - six           0.979824\n",
       "\n",
       "[10000 rows x 4 columns]"
      ]
     },
     "execution_count": 19,
     "metadata": {},
     "output_type": "execute_result"
    }
   ],
   "source": [
    "import pandas as pd\n",
    "\n",
    "from tqdm.auto import tqdm\n",
    "\n",
    "def prediction_dataframe(model, dataset, classes, device=device):\n",
    "    \"\"\"\n",
    "    Predict all images in a given dataset using a given model and produce a\n",
    "    data frame containing the prediction, label and probabilities the model\n",
    "    thinks that they are for both.\n",
    "    \"\"\"\n",
    "\n",
    "    model.to(device)\n",
    "    model.eval()\n",
    "\n",
    "    results = []\n",
    "    with torch.inference_mode():\n",
    "        for image, label in (tqdm(dataset, desc=\"Predict\", unit=\"sample\")):\n",
    "            logits = model(image.unsqueeze(0).to(device))\n",
    "            probs = torch.softmax(logits, dim=1)\n",
    "            predict = torch.argmax(probs, dim=1).item()\n",
    "            pred_prob = probs[0, predict].item()\n",
    "            label_prob = probs[0, label].item()\n",
    "            results.append([\n",
    "                classes[predict],\n",
    "                pred_prob,\n",
    "                classes[label],\n",
    "                label_prob\n",
    "            ])\n",
    "\n",
    "    return pd.DataFrame(\n",
    "        results,\n",
    "        columns=[\n",
    "            \"prediction\",\n",
    "            \"predict_probability\",\n",
    "            \"label\",\n",
    "            \"label_probability\"\n",
    "        ]\n",
    "    )\n",
    "\n",
    "pred_df = prediction_dataframe(simpnet_slim, test_dataset, classes)\n",
    "pred_df"
   ]
  },
  {
   "cell_type": "code",
   "execution_count": 20,
   "id": "5c9a0ca7-5509-4a5d-a25b-f7faadbe9b1c",
   "metadata": {},
   "outputs": [
    {
     "data": {
      "image/png": "[encoded data removed]",
      "text/plain": [
       "<Figure size 640x480 with 12 Axes>"
      ]
     },
     "metadata": {},
     "output_type": "display_data"
    }
   ],
   "source": [
    "def plot_worst_predictions(pred_df: pd.DataFrame, dataset, n=9):\n",
    "    \"\"\"\n",
    "    Plot the worst predictions in a given prediction DataFrame.\n",
    "\n",
    "    The wrong predictions with the highest probabilities are considered the most\n",
    "    incorrect predictions.\n",
    "\n",
    "    :param pred_df: the data frame containing the prediction results, see :meth:`prediction_dataframe`\n",
    "    :param dataset: the dataset used for the model predictions\n",
    "    :param int n: the number of worst predictions to plot\n",
    "    \"\"\"\n",
    "    wrong_df = pred_df[pred_df[\"prediction\"] != pred_df[\"label\"]]\n",
    "    worst_df = wrong_df.sort_values(\n",
    "        \"predict_probability\",\n",
    "        ascending=False\n",
    "    ).head(n)\n",
    "    a = math.floor(math.sqrt(9))\n",
    "    b = math.ceil(n / a)\n",
    "    for i, row in enumerate(worst_df.itertuples()):\n",
    "        image, target = dataset[row.Index]\n",
    "        plt.subplot(a, b, i + 1)\n",
    "        plt.imshow(image.squeeze(), cmap=\"gray\")\n",
    "        plt.title(\n",
    "            f\"Predict: {row.prediction}\\n\"\n",
    "            f\"Label: {row.label}\",\n",
    "        )\n",
    "        plt.axis(False)\n",
    "    plt.tight_layout(w_pad=3)\n",
    "\n",
    "plot_worst_predictions(pred_df, test_dataset, n=12)"
   ]
  }
 ],
 "metadata": {
  "kernelspec": {
   "display_name": "Python 3 (ipykernel)",
   "language": "python",
   "name": "python3"
  },
  "language_info": {
   "codemirror_mode": {
    "name": "ipython",
    "version": 3
   },
   "file_extension": ".py",
   "mimetype": "text/x-python",
   "name": "python",
   "nbconvert_exporter": "python",
   "pygments_lexer": "ipython3",
   "version": "3.11.6"
  }
 },
 "nbformat": 4,
 "nbformat_minor": 5
}
